{
 "cells": [
  {
   "cell_type": "code",
   "execution_count": 2,
   "metadata": {},
   "outputs": [],
   "source": [
    "import pandas as pd\n",
    "import numpy as np\n",
    "import seaborn as sb\n",
    "import matplotlib.pyplot as plt\n",
    "get_ipython().magic('matplotlib inline')"
   ]
  },
  {
   "cell_type": "code",
   "execution_count": 3,
   "metadata": {},
   "outputs": [],
   "source": [
    "#importing Final Conversion data\n",
    "final_con= pd.read_csv(\"Problem2_FInalConversions.txt\", sep=\"\\t\", names=['timestamp','userid','product','cart_amt'])"
   ]
  },
  {
   "cell_type": "code",
   "execution_count": 4,
   "metadata": {},
   "outputs": [
    {
     "data": {
      "text/html": [
       "<div>\n",
       "<style scoped>\n",
       "    .dataframe tbody tr th:only-of-type {\n",
       "        vertical-align: middle;\n",
       "    }\n",
       "\n",
       "    .dataframe tbody tr th {\n",
       "        vertical-align: top;\n",
       "    }\n",
       "\n",
       "    .dataframe thead th {\n",
       "        text-align: right;\n",
       "    }\n",
       "</style>\n",
       "<table border=\"1\" class=\"dataframe\">\n",
       "  <thead>\n",
       "    <tr style=\"text-align: right;\">\n",
       "      <th></th>\n",
       "      <th>timestamp</th>\n",
       "      <th>userid</th>\n",
       "      <th>product</th>\n",
       "      <th>cart_amt</th>\n",
       "    </tr>\n",
       "  </thead>\n",
       "  <tbody>\n",
       "    <tr>\n",
       "      <th>0</th>\n",
       "      <td>2017-07-26 00:00:10.465</td>\n",
       "      <td>0</td>\n",
       "      <td>A293532</td>\n",
       "      <td>52.14</td>\n",
       "    </tr>\n",
       "    <tr>\n",
       "      <th>1</th>\n",
       "      <td>2017-07-26 00:00:12.301</td>\n",
       "      <td>0</td>\n",
       "      <td>H209597</td>\n",
       "      <td>31.50</td>\n",
       "    </tr>\n",
       "    <tr>\n",
       "      <th>2</th>\n",
       "      <td>2017-07-26 00:00:12.388</td>\n",
       "      <td>0</td>\n",
       "      <td>H211370</td>\n",
       "      <td>30.48</td>\n",
       "    </tr>\n",
       "    <tr>\n",
       "      <th>3</th>\n",
       "      <td>2017-07-26 00:00:14.389</td>\n",
       "      <td>0</td>\n",
       "      <td>A282331</td>\n",
       "      <td>51.00</td>\n",
       "    </tr>\n",
       "    <tr>\n",
       "      <th>4</th>\n",
       "      <td>2017-07-26 00:00:16.837</td>\n",
       "      <td>0</td>\n",
       "      <td>H211410</td>\n",
       "      <td>16.74</td>\n",
       "    </tr>\n",
       "  </tbody>\n",
       "</table>\n",
       "</div>"
      ],
      "text/plain": [
       "                 timestamp  userid  product  cart_amt\n",
       "0  2017-07-26 00:00:10.465       0  A293532     52.14\n",
       "1  2017-07-26 00:00:12.301       0  H209597     31.50\n",
       "2  2017-07-26 00:00:12.388       0  H211370     30.48\n",
       "3  2017-07-26 00:00:14.389       0  A282331     51.00\n",
       "4  2017-07-26 00:00:16.837       0  H211410     16.74"
      ]
     },
     "execution_count": 4,
     "metadata": {},
     "output_type": "execute_result"
    }
   ],
   "source": [
    "final_con.head()\n"
   ]
  },
  {
   "cell_type": "code",
   "execution_count": 11,
   "metadata": {},
   "outputs": [
    {
     "data": {
      "text/plain": [
       "timestamp    0\n",
       "userid       0\n",
       "product      0\n",
       "cart_amt     0\n",
       "dtype: int64"
      ]
     },
     "execution_count": 11,
     "metadata": {},
     "output_type": "execute_result"
    }
   ],
   "source": []
  },
  {
   "cell_type": "code",
   "execution_count": 9,
   "metadata": {},
   "outputs": [
    {
     "data": {
      "text/plain": [
       "timestamp     object\n",
       "userid         int64\n",
       "product       object\n",
       "cart_amt     float64\n",
       "dtype: object"
      ]
     },
     "execution_count": 9,
     "metadata": {},
     "output_type": "execute_result"
    }
   ],
   "source": [
    "final_con.dtypes\n"
   ]
  },
  {
   "cell_type": "code",
   "execution_count": 10,
   "metadata": {},
   "outputs": [
    {
     "data": {
      "text/plain": [
       "timestamp    0\n",
       "userid       0\n",
       "product      0\n",
       "cart_amt     0\n",
       "dtype: int64"
      ]
     },
     "execution_count": 10,
     "metadata": {},
     "output_type": "execute_result"
    }
   ],
   "source": [
    "final_con.isnull().sum()"
   ]
  },
  {
   "cell_type": "code",
   "execution_count": 12,
   "metadata": {},
   "outputs": [
    {
     "data": {
      "text/plain": [
       "timestamp    79795\n",
       "userid       79795\n",
       "product      79795\n",
       "cart_amt     79795\n",
       "dtype: int64"
      ]
     },
     "execution_count": 12,
     "metadata": {},
     "output_type": "execute_result"
    }
   ],
   "source": [
    "final_con.count()"
   ]
  },
  {
   "cell_type": "code",
   "execution_count": 13,
   "metadata": {},
   "outputs": [
    {
     "data": {
      "text/plain": [
       "41009"
      ]
     },
     "execution_count": 13,
     "metadata": {},
     "output_type": "execute_result"
    }
   ],
   "source": [
    "final_con['userid'].nunique() #41009\n"
   ]
  },
  {
   "cell_type": "code",
   "execution_count": null,
   "metadata": {},
   "outputs": [],
   "source": [
    "final_con['userid'].unique() #41009\n"
   ]
  },
  {
   "cell_type": "code",
   "execution_count": 14,
   "metadata": {},
   "outputs": [
    {
     "data": {
      "text/plain": [
       "array(['A293532', 'H209597', 'H211370', ...,\n",
       "       'A275419,A277345,A291089,A290115,A288587,A236937', 'A268231',\n",
       "       'A296470,H211800,H210000'], dtype=object)"
      ]
     },
     "execution_count": 14,
     "metadata": {},
     "output_type": "execute_result"
    }
   ],
   "source": [
    "final_con['product'].unique()"
   ]
  },
  {
   "cell_type": "code",
   "execution_count": 15,
   "metadata": {},
   "outputs": [
    {
     "data": {
      "text/plain": [
       "13066"
      ]
     },
     "execution_count": 15,
     "metadata": {},
     "output_type": "execute_result"
    }
   ],
   "source": [
    "final_con['product'].nunique()"
   ]
  },
  {
   "cell_type": "code",
   "execution_count": 10,
   "metadata": {},
   "outputs": [
    {
     "data": {
      "text/plain": [
       "userid\n",
       "0                      20197\n",
       "2941287703                 1\n",
       "71023925710020             1\n",
       "394529638495081            1\n",
       "430191686443660            2\n",
       "887103105578626            1\n",
       "962713767308725            2\n",
       "1061744603054893           1\n",
       "1484686624382447           1\n",
       "1698034351507270           1\n",
       "2164499318886260           5\n",
       "2243119619438503           1\n",
       "2768539785487985           1\n",
       "3017190391603323           1\n",
       "3678780214674430           1\n",
       "3680894349014675           1\n",
       "3691780313186402           1\n",
       "3729758305600473           1\n",
       "3771133954730063           1\n",
       "3817439128416145           1\n",
       "4236873281318028           3\n",
       "4525998508004520           2\n",
       "4743222304577563           1\n",
       "5120716214496478           1\n",
       "5459017522862655           1\n",
       "5910628691007396           2\n",
       "5942997097932061           1\n",
       "6019530677802700           1\n",
       "6557803471397238           1\n",
       "7128808619903086           1\n",
       "                       ...  \n",
       "9216375976934655968        1\n",
       "9216741178188685901        1\n",
       "9216857839110443567        1\n",
       "9216920341188025180        1\n",
       "9216978960717319804        1\n",
       "9217130303869178658        1\n",
       "9217178607256499170        1\n",
       "9217358395598988638        1\n",
       "9217595614235021223        2\n",
       "9217615897859107641        2\n",
       "9217737828777182452        1\n",
       "9217885167736816403        1\n",
       "9218043554511067339        1\n",
       "9219765213133164393        1\n",
       "9219772005441422303        1\n",
       "9220002758846031580        3\n",
       "9220279008380575675        3\n",
       "9220649715311700390        3\n",
       "9220820852463051341        3\n",
       "9221205553929595027        2\n",
       "9221416564813035446        1\n",
       "9221477713053391614        1\n",
       "9221704031499605990        1\n",
       "9221827579306644828        2\n",
       "9222161116588760630        1\n",
       "9222344977727669611        1\n",
       "9222827786235385211        1\n",
       "9222849861047010228        1\n",
       "9223093682582171386        1\n",
       "9223308018930726010        1\n",
       "Name: timestamp, Length: 41009, dtype: int64"
      ]
     },
     "execution_count": 10,
     "metadata": {},
     "output_type": "execute_result"
    }
   ],
   "source": [
    "final_con.groupby('userid')['timestamp'].count()"
   ]
  },
  {
   "cell_type": "code",
   "execution_count": 16,
   "metadata": {},
   "outputs": [
    {
     "data": {
      "text/html": [
       "<div>\n",
       "<style scoped>\n",
       "    .dataframe tbody tr th:only-of-type {\n",
       "        vertical-align: middle;\n",
       "    }\n",
       "\n",
       "    .dataframe tbody tr th {\n",
       "        vertical-align: top;\n",
       "    }\n",
       "\n",
       "    .dataframe thead th {\n",
       "        text-align: right;\n",
       "    }\n",
       "</style>\n",
       "<table border=\"1\" class=\"dataframe\">\n",
       "  <thead>\n",
       "    <tr style=\"text-align: right;\">\n",
       "      <th></th>\n",
       "      <th>timestamp</th>\n",
       "      <th>userid</th>\n",
       "      <th>product</th>\n",
       "      <th>cart_amt</th>\n",
       "    </tr>\n",
       "  </thead>\n",
       "  <tbody>\n",
       "    <tr>\n",
       "      <th>548</th>\n",
       "      <td>2017-07-26 00:00:15.267</td>\n",
       "      <td>5942997097932061</td>\n",
       "      <td>K43931</td>\n",
       "      <td>157.95</td>\n",
       "    </tr>\n",
       "  </tbody>\n",
       "</table>\n",
       "</div>"
      ],
      "text/plain": [
       "                   timestamp            userid product  cart_amt\n",
       "548  2017-07-26 00:00:15.267  5942997097932061  K43931    157.95"
      ]
     },
     "execution_count": 16,
     "metadata": {},
     "output_type": "execute_result"
    }
   ],
   "source": [
    "final_con[final_con['userid']==5942997097932061]"
   ]
  },
  {
   "cell_type": "code",
   "execution_count": 17,
   "metadata": {},
   "outputs": [
    {
     "data": {
      "text/html": [
       "<div>\n",
       "<style scoped>\n",
       "    .dataframe tbody tr th:only-of-type {\n",
       "        vertical-align: middle;\n",
       "    }\n",
       "\n",
       "    .dataframe tbody tr th {\n",
       "        vertical-align: top;\n",
       "    }\n",
       "\n",
       "    .dataframe thead th {\n",
       "        text-align: right;\n",
       "    }\n",
       "</style>\n",
       "<table border=\"1\" class=\"dataframe\">\n",
       "  <thead>\n",
       "    <tr style=\"text-align: right;\">\n",
       "      <th></th>\n",
       "      <th>timestamp</th>\n",
       "      <th>userid</th>\n",
       "      <th>product</th>\n",
       "      <th>cart_amt</th>\n",
       "    </tr>\n",
       "  </thead>\n",
       "  <tbody>\n",
       "    <tr>\n",
       "      <th>4422</th>\n",
       "      <td>2017-07-26 01:03:10.027</td>\n",
       "      <td>2164499318886260</td>\n",
       "      <td>H211410</td>\n",
       "      <td>31.24</td>\n",
       "    </tr>\n",
       "    <tr>\n",
       "      <th>12371</th>\n",
       "      <td>2017-07-26 03:06:01.381</td>\n",
       "      <td>2164499318886260</td>\n",
       "      <td>H211397</td>\n",
       "      <td>38.24</td>\n",
       "    </tr>\n",
       "    <tr>\n",
       "      <th>18945</th>\n",
       "      <td>2017-07-26 01:03:10.176</td>\n",
       "      <td>2164499318886260</td>\n",
       "      <td>H211394</td>\n",
       "      <td>39.18</td>\n",
       "    </tr>\n",
       "    <tr>\n",
       "      <th>18946</th>\n",
       "      <td>2017-07-26 01:03:10.314</td>\n",
       "      <td>2164499318886260</td>\n",
       "      <td>H211394</td>\n",
       "      <td>39.18</td>\n",
       "    </tr>\n",
       "    <tr>\n",
       "      <th>30744</th>\n",
       "      <td>2017-07-26 03:06:01.576</td>\n",
       "      <td>2164499318886260</td>\n",
       "      <td>H211397</td>\n",
       "      <td>27.24</td>\n",
       "    </tr>\n",
       "  </tbody>\n",
       "</table>\n",
       "</div>"
      ],
      "text/plain": [
       "                     timestamp            userid  product  cart_amt\n",
       "4422   2017-07-26 01:03:10.027  2164499318886260  H211410     31.24\n",
       "12371  2017-07-26 03:06:01.381  2164499318886260  H211397     38.24\n",
       "18945  2017-07-26 01:03:10.176  2164499318886260  H211394     39.18\n",
       "18946  2017-07-26 01:03:10.314  2164499318886260  H211394     39.18\n",
       "30744  2017-07-26 03:06:01.576  2164499318886260  H211397     27.24"
      ]
     },
     "execution_count": 17,
     "metadata": {},
     "output_type": "execute_result"
    }
   ],
   "source": [
    "final_con[final_con['userid']==2164499318886260]"
   ]
  },
  {
   "cell_type": "code",
   "execution_count": 19,
   "metadata": {},
   "outputs": [
    {
     "data": {
      "text/plain": [
       "timestamp    20197\n",
       "userid       20197\n",
       "product      20197\n",
       "cart_amt     20197\n",
       "dtype: int64"
      ]
     },
     "execution_count": 19,
     "metadata": {},
     "output_type": "execute_result"
    }
   ],
   "source": [
    "final_con[final_con['userid']==0].count()"
   ]
  },
  {
   "cell_type": "code",
   "execution_count": 5,
   "metadata": {},
   "outputs": [
    {
     "data": {
      "text/html": [
       "<div>\n",
       "<style scoped>\n",
       "    .dataframe tbody tr th:only-of-type {\n",
       "        vertical-align: middle;\n",
       "    }\n",
       "\n",
       "    .dataframe tbody tr th {\n",
       "        vertical-align: top;\n",
       "    }\n",
       "\n",
       "    .dataframe thead th {\n",
       "        text-align: right;\n",
       "    }\n",
       "</style>\n",
       "<table border=\"1\" class=\"dataframe\">\n",
       "  <thead>\n",
       "    <tr style=\"text-align: right;\">\n",
       "      <th></th>\n",
       "      <th>timestamp</th>\n",
       "      <th>userid</th>\n",
       "      <th>websec</th>\n",
       "    </tr>\n",
       "  </thead>\n",
       "  <tbody>\n",
       "    <tr>\n",
       "      <th>0</th>\n",
       "      <td>2017-07-26 00:01:40.965</td>\n",
       "      <td>0</td>\n",
       "      <td>product</td>\n",
       "    </tr>\n",
       "    <tr>\n",
       "      <th>1</th>\n",
       "      <td>2017-07-26 00:03:18.448</td>\n",
       "      <td>0</td>\n",
       "      <td>product</td>\n",
       "    </tr>\n",
       "    <tr>\n",
       "      <th>2</th>\n",
       "      <td>2017-07-26 00:36:59.028</td>\n",
       "      <td>0</td>\n",
       "      <td>default</td>\n",
       "    </tr>\n",
       "    <tr>\n",
       "      <th>3</th>\n",
       "      <td>2017-07-26 00:41:17.273</td>\n",
       "      <td>0</td>\n",
       "      <td>product-listing-category</td>\n",
       "    </tr>\n",
       "    <tr>\n",
       "      <th>4</th>\n",
       "      <td>2017-07-26 00:45:39.197</td>\n",
       "      <td>0</td>\n",
       "      <td>content</td>\n",
       "    </tr>\n",
       "    <tr>\n",
       "      <th>5</th>\n",
       "      <td>2017-07-26 00:45:48.487</td>\n",
       "      <td>0</td>\n",
       "      <td>home</td>\n",
       "    </tr>\n",
       "    <tr>\n",
       "      <th>6</th>\n",
       "      <td>2017-07-26 00:46:25.033</td>\n",
       "      <td>0</td>\n",
       "      <td>product-listing-category</td>\n",
       "    </tr>\n",
       "    <tr>\n",
       "      <th>7</th>\n",
       "      <td>2017-07-26 00:47:06.513</td>\n",
       "      <td>0</td>\n",
       "      <td>product-listing-category</td>\n",
       "    </tr>\n",
       "    <tr>\n",
       "      <th>8</th>\n",
       "      <td>2017-07-26 00:47:26.001</td>\n",
       "      <td>0</td>\n",
       "      <td>content</td>\n",
       "    </tr>\n",
       "    <tr>\n",
       "      <th>9</th>\n",
       "      <td>2017-07-26 00:48:00.868</td>\n",
       "      <td>0</td>\n",
       "      <td>home</td>\n",
       "    </tr>\n",
       "  </tbody>\n",
       "</table>\n",
       "</div>"
      ],
      "text/plain": [
       "                 timestamp  userid                    websec\n",
       "0  2017-07-26 00:01:40.965       0                   product\n",
       "1  2017-07-26 00:03:18.448       0                   product\n",
       "2  2017-07-26 00:36:59.028       0                   default\n",
       "3  2017-07-26 00:41:17.273       0  product-listing-category\n",
       "4  2017-07-26 00:45:39.197       0                   content\n",
       "5  2017-07-26 00:45:48.487       0                      home\n",
       "6  2017-07-26 00:46:25.033       0  product-listing-category\n",
       "7  2017-07-26 00:47:06.513       0  product-listing-category\n",
       "8  2017-07-26 00:47:26.001       0                   content\n",
       "9  2017-07-26 00:48:00.868       0                      home"
      ]
     },
     "execution_count": 5,
     "metadata": {},
     "output_type": "execute_result"
    }
   ],
   "source": [
    "# Importing Browsing Behaviour Data\n",
    "bh= pd.read_csv(\"Problem2_Site_BrowingBehavior.txt\", sep=\"\\t\", names=['timestamp','userid','websec'])\n",
    "bh.head(10)"
   ]
  },
  {
   "cell_type": "code",
   "execution_count": 21,
   "metadata": {},
   "outputs": [
    {
     "data": {
      "text/plain": [
       "timestamp    0\n",
       "userid       0\n",
       "websec       0\n",
       "dtype: int64"
      ]
     },
     "execution_count": 21,
     "metadata": {},
     "output_type": "execute_result"
    }
   ],
   "source": [
    "bh.isnull().sum()"
   ]
  },
  {
   "cell_type": "code",
   "execution_count": 22,
   "metadata": {},
   "outputs": [
    {
     "data": {
      "text/plain": [
       "timestamp    5535924\n",
       "userid       5535924\n",
       "websec       5535924\n",
       "dtype: int64"
      ]
     },
     "execution_count": 22,
     "metadata": {},
     "output_type": "execute_result"
    }
   ],
   "source": [
    "bh.count()"
   ]
  },
  {
   "cell_type": "code",
   "execution_count": null,
   "metadata": {},
   "outputs": [],
   "source": [
    "bh.dtypes"
   ]
  },
  {
   "cell_type": "code",
   "execution_count": 23,
   "metadata": {},
   "outputs": [
    {
     "data": {
      "text/plain": [
       "Index(['timestamp', 'userid', 'web sec'], dtype='object')"
      ]
     },
     "execution_count": 23,
     "metadata": {},
     "output_type": "execute_result"
    }
   ],
   "source": [
    "bh.columns"
   ]
  },
  {
   "cell_type": "code",
   "execution_count": 24,
   "metadata": {},
   "outputs": [
    {
     "data": {
      "text/html": [
       "<div>\n",
       "<style scoped>\n",
       "    .dataframe tbody tr th:only-of-type {\n",
       "        vertical-align: middle;\n",
       "    }\n",
       "\n",
       "    .dataframe tbody tr th {\n",
       "        vertical-align: top;\n",
       "    }\n",
       "\n",
       "    .dataframe thead th {\n",
       "        text-align: right;\n",
       "    }\n",
       "</style>\n",
       "<table border=\"1\" class=\"dataframe\">\n",
       "  <thead>\n",
       "    <tr style=\"text-align: right;\">\n",
       "      <th></th>\n",
       "      <th>timestamp</th>\n",
       "      <th>userid</th>\n",
       "      <th>web sec</th>\n",
       "    </tr>\n",
       "  </thead>\n",
       "  <tbody>\n",
       "    <tr>\n",
       "      <th>0</th>\n",
       "      <td>2017-07-26 00:01:40.965</td>\n",
       "      <td>0</td>\n",
       "      <td>product</td>\n",
       "    </tr>\n",
       "    <tr>\n",
       "      <th>1</th>\n",
       "      <td>2017-07-26 00:03:18.448</td>\n",
       "      <td>0</td>\n",
       "      <td>product</td>\n",
       "    </tr>\n",
       "    <tr>\n",
       "      <th>2</th>\n",
       "      <td>2017-07-26 00:36:59.028</td>\n",
       "      <td>0</td>\n",
       "      <td>default</td>\n",
       "    </tr>\n",
       "    <tr>\n",
       "      <th>3</th>\n",
       "      <td>2017-07-26 00:41:17.273</td>\n",
       "      <td>0</td>\n",
       "      <td>product-listing-category</td>\n",
       "    </tr>\n",
       "    <tr>\n",
       "      <th>4</th>\n",
       "      <td>2017-07-26 00:45:39.197</td>\n",
       "      <td>0</td>\n",
       "      <td>content</td>\n",
       "    </tr>\n",
       "    <tr>\n",
       "      <th>5</th>\n",
       "      <td>2017-07-26 00:45:48.487</td>\n",
       "      <td>0</td>\n",
       "      <td>home</td>\n",
       "    </tr>\n",
       "    <tr>\n",
       "      <th>6</th>\n",
       "      <td>2017-07-26 00:46:25.033</td>\n",
       "      <td>0</td>\n",
       "      <td>product-listing-category</td>\n",
       "    </tr>\n",
       "    <tr>\n",
       "      <th>7</th>\n",
       "      <td>2017-07-26 00:47:06.513</td>\n",
       "      <td>0</td>\n",
       "      <td>product-listing-category</td>\n",
       "    </tr>\n",
       "    <tr>\n",
       "      <th>8</th>\n",
       "      <td>2017-07-26 00:47:26.001</td>\n",
       "      <td>0</td>\n",
       "      <td>content</td>\n",
       "    </tr>\n",
       "    <tr>\n",
       "      <th>9</th>\n",
       "      <td>2017-07-26 00:48:00.868</td>\n",
       "      <td>0</td>\n",
       "      <td>home</td>\n",
       "    </tr>\n",
       "  </tbody>\n",
       "</table>\n",
       "</div>"
      ],
      "text/plain": [
       "                 timestamp  userid                   web sec\n",
       "0  2017-07-26 00:01:40.965       0                   product\n",
       "1  2017-07-26 00:03:18.448       0                   product\n",
       "2  2017-07-26 00:36:59.028       0                   default\n",
       "3  2017-07-26 00:41:17.273       0  product-listing-category\n",
       "4  2017-07-26 00:45:39.197       0                   content\n",
       "5  2017-07-26 00:45:48.487       0                      home\n",
       "6  2017-07-26 00:46:25.033       0  product-listing-category\n",
       "7  2017-07-26 00:47:06.513       0  product-listing-category\n",
       "8  2017-07-26 00:47:26.001       0                   content\n",
       "9  2017-07-26 00:48:00.868       0                      home"
      ]
     },
     "execution_count": 24,
     "metadata": {},
     "output_type": "execute_result"
    }
   ],
   "source": [
    "bh.head(10)"
   ]
  },
  {
   "cell_type": "code",
   "execution_count": 24,
   "metadata": {},
   "outputs": [
    {
     "data": {
      "text/plain": [
       "17"
      ]
     },
     "execution_count": 24,
     "metadata": {},
     "output_type": "execute_result"
    }
   ],
   "source": [
    "#finding the no of unique values of web sections present in data\n",
    "bh['websec'].nunique()"
   ]
  },
  {
   "cell_type": "code",
   "execution_count": 23,
   "metadata": {},
   "outputs": [
    {
     "data": {
      "text/plain": [
       "array(['product', 'default', 'product-listing-category', 'content',\n",
       "       'home', 'cart', 'product-listing-search', 'iroa', 'shoplive',\n",
       "       'productNotFound', 'product-listing-custom', 'signupcomplete',\n",
       "       'mys', 'error', 'lorigreiner', 'wishlist', 'category'],\n",
       "      dtype=object)"
      ]
     },
     "execution_count": 23,
     "metadata": {},
     "output_type": "execute_result"
    }
   ],
   "source": [
    "bh['websec'].unique()"
   ]
  },
  {
   "cell_type": "code",
   "execution_count": 4,
   "metadata": {},
   "outputs": [],
   "source": [
    "# Data Cleaning and Preprocessing\n",
    "#1.#timestamp column type is object for making it useful conver it to timestamp format\n",
    "from dateutil.parser import parse\n",
    "\n",
    "bh['timestamp']=[parse(x) for x in bh['timestamp']]\n"
   ]
  },
  {
   "cell_type": "code",
   "execution_count": 5,
   "metadata": {},
   "outputs": [],
   "source": [
    "final_con['timestamp']=[parse(x) for x in final_con['timestamp']]"
   ]
  },
  {
   "cell_type": "code",
   "execution_count": 26,
   "metadata": {},
   "outputs": [
    {
     "data": {
      "text/plain": [
       "timestamp    datetime64[ns]\n",
       "userid                int64\n",
       "product              object\n",
       "cart_amt            float64\n",
       "dtype: object"
      ]
     },
     "execution_count": 26,
     "metadata": {},
     "output_type": "execute_result"
    }
   ],
   "source": [
    "#checking the types of column after conveting\n",
    "final_con.dtypes"
   ]
  },
  {
   "cell_type": "code",
   "execution_count": 27,
   "metadata": {},
   "outputs": [
    {
     "data": {
      "text/plain": [
       "timestamp    datetime64[ns]\n",
       "userid                int64\n",
       "websec               object\n",
       "dtype: object"
      ]
     },
     "execution_count": 27,
     "metadata": {},
     "output_type": "execute_result"
    }
   ],
   "source": [
    "bh.dtypes"
   ]
  },
  {
   "cell_type": "code",
   "execution_count": null,
   "metadata": {},
   "outputs": [],
   "source": [
    "# we can extract day, hour, weekday from timestamp \n",
    "#and can use find some relation with the respose var purchades\n",
    "\n",
    "#final_con['date'] = final_con['timestamp'].dt.date\n",
    "#final_con['day'] = final_con['timestamp'].dt.day\n",
    "#final_con['hour'] = final_con['timestamp'].dt.hour\n",
    "#final_con['weekday'] = final_con['timestamp'].dt.dayofweek\n"
   ]
  },
  {
   "cell_type": "code",
   "execution_count": null,
   "metadata": {},
   "outputs": [],
   "source": [
    "# we can do same for the Browsing Behaviour data\n",
    "#bh['date'] = bh['timestamp'].dt.date\n",
    "#bh['day'] = bh['timestamp'].dt.day\n",
    "#bh['hour'] = bh['timestamp'].dt.hour\n",
    "#bh['weekday'] = bh['timestamp'].dt.dayofweek\n"
   ]
  },
  {
   "cell_type": "code",
   "execution_count": null,
   "metadata": {},
   "outputs": [],
   "source": []
  },
  {
   "cell_type": "code",
   "execution_count": 28,
   "metadata": {},
   "outputs": [
    {
     "data": {
      "text/plain": [
       "timestamp    79795\n",
       "userid       79795\n",
       "product      79795\n",
       "cart_amt     79795\n",
       "dtype: int64"
      ]
     },
     "execution_count": 28,
     "metadata": {},
     "output_type": "execute_result"
    }
   ],
   "source": [
    "final_con.count()\n"
   ]
  },
  {
   "cell_type": "code",
   "execution_count": 6,
   "metadata": {},
   "outputs": [
    {
     "data": {
      "text/plain": [
       "timestamp    20197\n",
       "userid       20197\n",
       "product      20197\n",
       "cart_amt     20197\n",
       "dtype: int64"
      ]
     },
     "execution_count": 6,
     "metadata": {},
     "output_type": "execute_result"
    }
   ],
   "source": [
    "#As there are many observations without UserId,saving all rows with 0 UserId to a new dataframe final_con2\n",
    "\n",
    "#final conversion data with userid=0\n",
    "final_con2=final_con[final_con.userid == 0]\n",
    "## we can use this data later on to improve the model \n",
    "##performance because all these users have purchased some products\n",
    "#So we can append this data to final merged data\n",
    "\n",
    "\n",
    "final_con2.count()"
   ]
  },
  {
   "cell_type": "code",
   "execution_count": 7,
   "metadata": {},
   "outputs": [
    {
     "data": {
      "text/plain": [
       "timestamp    59598\n",
       "userid       59598\n",
       "product      59598\n",
       "cart_amt     59598\n",
       "dtype: int64"
      ]
     },
     "execution_count": 7,
     "metadata": {},
     "output_type": "execute_result"
    }
   ],
   "source": [
    "##final conversion data without userid=0\n",
    "\n",
    "final_con1=final_con[final_con.userid != 0]\n",
    "final_con1.count()\n"
   ]
  },
  {
   "cell_type": "code",
   "execution_count": 48,
   "metadata": {},
   "outputs": [
    {
     "data": {
      "text/plain": [
       "timestamp    5535924\n",
       "userid       5535924\n",
       "websec       5535924\n",
       "dtype: int64"
      ]
     },
     "execution_count": 48,
     "metadata": {},
     "output_type": "execute_result"
    }
   ],
   "source": [
    "bh.count()"
   ]
  },
  {
   "cell_type": "code",
   "execution_count": 45,
   "metadata": {},
   "outputs": [
    {
     "data": {
      "text/plain": [
       "timestamp    1407879\n",
       "userid       1407879\n",
       "websec       1407879\n",
       "dtype: int64"
      ]
     },
     "execution_count": 45,
     "metadata": {},
     "output_type": "execute_result"
    }
   ],
   "source": [
    "bh[bh['userid']==0].count()"
   ]
  },
  {
   "cell_type": "code",
   "execution_count": 8,
   "metadata": {},
   "outputs": [
    {
     "data": {
      "text/plain": [
       "timestamp    object\n",
       "userid        int64\n",
       "websec       object\n",
       "dtype: object"
      ]
     },
     "execution_count": 8,
     "metadata": {},
     "output_type": "execute_result"
    }
   ],
   "source": [
    "# Browsing Behaviour data without userid=0\n",
    "bh1=bh[bh.userid != 0]\n",
    "bh1.dtypes"
   ]
  },
  {
   "cell_type": "code",
   "execution_count": 9,
   "metadata": {},
   "outputs": [
    {
     "data": {
      "text/plain": [
       "timestamp    object\n",
       "userid        int64\n",
       "websec       object\n",
       "dtype: object"
      ]
     },
     "execution_count": 9,
     "metadata": {},
     "output_type": "execute_result"
    }
   ],
   "source": [
    "# Browsing Behaviour data with userid=0\n",
    "bh2=bh[bh.userid == 0]\n",
    "bh2.dtypes"
   ]
  },
  {
   "cell_type": "code",
   "execution_count": 50,
   "metadata": {},
   "outputs": [
    {
     "data": {
      "text/plain": [
       "timestamp    4128045\n",
       "userid       4128045\n",
       "websec       4128045\n",
       "dtype: int64"
      ]
     },
     "execution_count": 50,
     "metadata": {},
     "output_type": "execute_result"
    }
   ],
   "source": [
    "bh1.count()"
   ]
  },
  {
   "cell_type": "code",
   "execution_count": 51,
   "metadata": {},
   "outputs": [
    {
     "data": {
      "text/plain": [
       "timestamp    1407879\n",
       "userid       1407879\n",
       "websec       1407879\n",
       "dtype: int64"
      ]
     },
     "execution_count": 51,
     "metadata": {},
     "output_type": "execute_result"
    }
   ],
   "source": [
    "bh2.count()"
   ]
  },
  {
   "cell_type": "code",
   "execution_count": 52,
   "metadata": {},
   "outputs": [
    {
     "data": {
      "text/html": [
       "<div>\n",
       "<style scoped>\n",
       "    .dataframe tbody tr th:only-of-type {\n",
       "        vertical-align: middle;\n",
       "    }\n",
       "\n",
       "    .dataframe tbody tr th {\n",
       "        vertical-align: top;\n",
       "    }\n",
       "\n",
       "    .dataframe thead th {\n",
       "        text-align: right;\n",
       "    }\n",
       "</style>\n",
       "<table border=\"1\" class=\"dataframe\">\n",
       "  <thead>\n",
       "    <tr style=\"text-align: right;\">\n",
       "      <th></th>\n",
       "      <th>timestamp</th>\n",
       "      <th>userid</th>\n",
       "      <th>websec</th>\n",
       "    </tr>\n",
       "  </thead>\n",
       "  <tbody>\n",
       "    <tr>\n",
       "      <th>101129</th>\n",
       "      <td>2017-07-26 00:47:58.320</td>\n",
       "      <td>544439661706349</td>\n",
       "      <td>product</td>\n",
       "    </tr>\n",
       "    <tr>\n",
       "      <th>101130</th>\n",
       "      <td>2017-07-26 00:09:03.411</td>\n",
       "      <td>634394594974068</td>\n",
       "      <td>content</td>\n",
       "    </tr>\n",
       "    <tr>\n",
       "      <th>101131</th>\n",
       "      <td>2017-07-26 00:09:09.116</td>\n",
       "      <td>634394594974068</td>\n",
       "      <td>content</td>\n",
       "    </tr>\n",
       "    <tr>\n",
       "      <th>101132</th>\n",
       "      <td>2017-07-26 00:11:07.333</td>\n",
       "      <td>634394594974068</td>\n",
       "      <td>content</td>\n",
       "    </tr>\n",
       "    <tr>\n",
       "      <th>101133</th>\n",
       "      <td>2017-07-26 00:11:29.141</td>\n",
       "      <td>634394594974068</td>\n",
       "      <td>content</td>\n",
       "    </tr>\n",
       "  </tbody>\n",
       "</table>\n",
       "</div>"
      ],
      "text/plain": [
       "                     timestamp           userid   websec\n",
       "101129 2017-07-26 00:47:58.320  544439661706349  product\n",
       "101130 2017-07-26 00:09:03.411  634394594974068  content\n",
       "101131 2017-07-26 00:09:09.116  634394594974068  content\n",
       "101132 2017-07-26 00:11:07.333  634394594974068  content\n",
       "101133 2017-07-26 00:11:29.141  634394594974068  content"
      ]
     },
     "execution_count": 52,
     "metadata": {},
     "output_type": "execute_result"
    }
   ],
   "source": [
    "bh1.head()"
   ]
  },
  {
   "cell_type": "code",
   "execution_count": 62,
   "metadata": {},
   "outputs": [
    {
     "data": {
      "text/html": [
       "<div>\n",
       "<style scoped>\n",
       "    .dataframe tbody tr th:only-of-type {\n",
       "        vertical-align: middle;\n",
       "    }\n",
       "\n",
       "    .dataframe tbody tr th {\n",
       "        vertical-align: top;\n",
       "    }\n",
       "\n",
       "    .dataframe thead th {\n",
       "        text-align: right;\n",
       "    }\n",
       "</style>\n",
       "<table border=\"1\" class=\"dataframe\">\n",
       "  <thead>\n",
       "    <tr style=\"text-align: right;\">\n",
       "      <th></th>\n",
       "      <th>timestamp</th>\n",
       "      <th>userid</th>\n",
       "      <th>product</th>\n",
       "      <th>cart_amt</th>\n",
       "    </tr>\n",
       "  </thead>\n",
       "  <tbody>\n",
       "    <tr>\n",
       "      <th>548</th>\n",
       "      <td>2017-07-26 00:00:15.267</td>\n",
       "      <td>5942997097932061</td>\n",
       "      <td>K43931</td>\n",
       "      <td>157.95</td>\n",
       "    </tr>\n",
       "    <tr>\n",
       "      <th>549</th>\n",
       "      <td>2017-07-26 00:26:44.266</td>\n",
       "      <td>23951842225160889</td>\n",
       "      <td>H211370</td>\n",
       "      <td>33.48</td>\n",
       "    </tr>\n",
       "    <tr>\n",
       "      <th>550</th>\n",
       "      <td>2017-07-26 00:26:44.361</td>\n",
       "      <td>23951842225160889</td>\n",
       "      <td>H211370</td>\n",
       "      <td>27.48</td>\n",
       "    </tr>\n",
       "    <tr>\n",
       "      <th>551</th>\n",
       "      <td>2017-07-26 00:55:37.774</td>\n",
       "      <td>30833658052409950</td>\n",
       "      <td>H211394</td>\n",
       "      <td>44.68</td>\n",
       "    </tr>\n",
       "    <tr>\n",
       "      <th>552</th>\n",
       "      <td>2017-07-26 00:10:46.954</td>\n",
       "      <td>33873861847792934</td>\n",
       "      <td>H211800</td>\n",
       "      <td>53.24</td>\n",
       "    </tr>\n",
       "  </tbody>\n",
       "</table>\n",
       "</div>"
      ],
      "text/plain": [
       "                  timestamp             userid  product  cart_amt\n",
       "548 2017-07-26 00:00:15.267   5942997097932061   K43931    157.95\n",
       "549 2017-07-26 00:26:44.266  23951842225160889  H211370     33.48\n",
       "550 2017-07-26 00:26:44.361  23951842225160889  H211370     27.48\n",
       "551 2017-07-26 00:55:37.774  30833658052409950  H211394     44.68\n",
       "552 2017-07-26 00:10:46.954  33873861847792934  H211800     53.24"
      ]
     },
     "execution_count": 62,
     "metadata": {},
     "output_type": "execute_result"
    }
   ],
   "source": [
    "final_con1.head()"
   ]
  },
  {
   "cell_type": "code",
   "execution_count": 53,
   "metadata": {},
   "outputs": [
    {
     "data": {
      "text/html": [
       "<div>\n",
       "<style scoped>\n",
       "    .dataframe tbody tr th:only-of-type {\n",
       "        vertical-align: middle;\n",
       "    }\n",
       "\n",
       "    .dataframe tbody tr th {\n",
       "        vertical-align: top;\n",
       "    }\n",
       "\n",
       "    .dataframe thead th {\n",
       "        text-align: right;\n",
       "    }\n",
       "</style>\n",
       "<table border=\"1\" class=\"dataframe\">\n",
       "  <thead>\n",
       "    <tr style=\"text-align: right;\">\n",
       "      <th></th>\n",
       "      <th>timestamp</th>\n",
       "      <th>userid</th>\n",
       "      <th>websec</th>\n",
       "    </tr>\n",
       "  </thead>\n",
       "  <tbody>\n",
       "    <tr>\n",
       "      <th>0</th>\n",
       "      <td>2017-07-26 00:01:40.965</td>\n",
       "      <td>0</td>\n",
       "      <td>product</td>\n",
       "    </tr>\n",
       "    <tr>\n",
       "      <th>1</th>\n",
       "      <td>2017-07-26 00:03:18.448</td>\n",
       "      <td>0</td>\n",
       "      <td>product</td>\n",
       "    </tr>\n",
       "    <tr>\n",
       "      <th>2</th>\n",
       "      <td>2017-07-26 00:36:59.028</td>\n",
       "      <td>0</td>\n",
       "      <td>default</td>\n",
       "    </tr>\n",
       "    <tr>\n",
       "      <th>3</th>\n",
       "      <td>2017-07-26 00:41:17.273</td>\n",
       "      <td>0</td>\n",
       "      <td>product-listing-category</td>\n",
       "    </tr>\n",
       "    <tr>\n",
       "      <th>4</th>\n",
       "      <td>2017-07-26 00:45:39.197</td>\n",
       "      <td>0</td>\n",
       "      <td>content</td>\n",
       "    </tr>\n",
       "  </tbody>\n",
       "</table>\n",
       "</div>"
      ],
      "text/plain": [
       "                timestamp  userid                    websec\n",
       "0 2017-07-26 00:01:40.965       0                   product\n",
       "1 2017-07-26 00:03:18.448       0                   product\n",
       "2 2017-07-26 00:36:59.028       0                   default\n",
       "3 2017-07-26 00:41:17.273       0  product-listing-category\n",
       "4 2017-07-26 00:45:39.197       0                   content"
      ]
     },
     "execution_count": 53,
     "metadata": {},
     "output_type": "execute_result"
    }
   ],
   "source": [
    "bh2.head()"
   ]
  },
  {
   "cell_type": "code",
   "execution_count": 54,
   "metadata": {},
   "outputs": [
    {
     "data": {
      "text/plain": [
       "16"
      ]
     },
     "execution_count": 54,
     "metadata": {},
     "output_type": "execute_result"
    }
   ],
   "source": [
    "bh1['websec'].nunique()"
   ]
  },
  {
   "cell_type": "code",
   "execution_count": 56,
   "metadata": {},
   "outputs": [
    {
     "data": {
      "text/plain": [
       "11000"
      ]
     },
     "execution_count": 56,
     "metadata": {},
     "output_type": "execute_result"
    }
   ],
   "source": [
    "final_con1['product'].nunique()"
   ]
  },
  {
   "cell_type": "code",
   "execution_count": 10,
   "metadata": {},
   "outputs": [],
   "source": [
    "## create new dataframes with only required columns\n",
    "bh3=bh1.drop(columns=['timestamp'],axis=1)\n",
    "final_con3=final_con1.drop(columns=['timestamp','cart_amt'],axis=1)"
   ]
  },
  {
   "cell_type": "code",
   "execution_count": 58,
   "metadata": {},
   "outputs": [
    {
     "data": {
      "text/html": [
       "<div>\n",
       "<style scoped>\n",
       "    .dataframe tbody tr th:only-of-type {\n",
       "        vertical-align: middle;\n",
       "    }\n",
       "\n",
       "    .dataframe tbody tr th {\n",
       "        vertical-align: top;\n",
       "    }\n",
       "\n",
       "    .dataframe thead th {\n",
       "        text-align: right;\n",
       "    }\n",
       "</style>\n",
       "<table border=\"1\" class=\"dataframe\">\n",
       "  <thead>\n",
       "    <tr style=\"text-align: right;\">\n",
       "      <th></th>\n",
       "      <th>userid</th>\n",
       "      <th>websec</th>\n",
       "    </tr>\n",
       "  </thead>\n",
       "  <tbody>\n",
       "    <tr>\n",
       "      <th>101129</th>\n",
       "      <td>544439661706349</td>\n",
       "      <td>product</td>\n",
       "    </tr>\n",
       "    <tr>\n",
       "      <th>101130</th>\n",
       "      <td>634394594974068</td>\n",
       "      <td>content</td>\n",
       "    </tr>\n",
       "    <tr>\n",
       "      <th>101131</th>\n",
       "      <td>634394594974068</td>\n",
       "      <td>content</td>\n",
       "    </tr>\n",
       "    <tr>\n",
       "      <th>101132</th>\n",
       "      <td>634394594974068</td>\n",
       "      <td>content</td>\n",
       "    </tr>\n",
       "    <tr>\n",
       "      <th>101133</th>\n",
       "      <td>634394594974068</td>\n",
       "      <td>content</td>\n",
       "    </tr>\n",
       "  </tbody>\n",
       "</table>\n",
       "</div>"
      ],
      "text/plain": [
       "                 userid   websec\n",
       "101129  544439661706349  product\n",
       "101130  634394594974068  content\n",
       "101131  634394594974068  content\n",
       "101132  634394594974068  content\n",
       "101133  634394594974068  content"
      ]
     },
     "execution_count": 58,
     "metadata": {},
     "output_type": "execute_result"
    }
   ],
   "source": [
    "bh3.head()"
   ]
  },
  {
   "cell_type": "code",
   "execution_count": 59,
   "metadata": {},
   "outputs": [
    {
     "data": {
      "text/html": [
       "<div>\n",
       "<style scoped>\n",
       "    .dataframe tbody tr th:only-of-type {\n",
       "        vertical-align: middle;\n",
       "    }\n",
       "\n",
       "    .dataframe tbody tr th {\n",
       "        vertical-align: top;\n",
       "    }\n",
       "\n",
       "    .dataframe thead th {\n",
       "        text-align: right;\n",
       "    }\n",
       "</style>\n",
       "<table border=\"1\" class=\"dataframe\">\n",
       "  <thead>\n",
       "    <tr style=\"text-align: right;\">\n",
       "      <th></th>\n",
       "      <th>userid</th>\n",
       "      <th>product</th>\n",
       "    </tr>\n",
       "  </thead>\n",
       "  <tbody>\n",
       "    <tr>\n",
       "      <th>548</th>\n",
       "      <td>5942997097932061</td>\n",
       "      <td>K43931</td>\n",
       "    </tr>\n",
       "    <tr>\n",
       "      <th>549</th>\n",
       "      <td>23951842225160889</td>\n",
       "      <td>H211370</td>\n",
       "    </tr>\n",
       "    <tr>\n",
       "      <th>550</th>\n",
       "      <td>23951842225160889</td>\n",
       "      <td>H211370</td>\n",
       "    </tr>\n",
       "    <tr>\n",
       "      <th>551</th>\n",
       "      <td>30833658052409950</td>\n",
       "      <td>H211394</td>\n",
       "    </tr>\n",
       "    <tr>\n",
       "      <th>552</th>\n",
       "      <td>33873861847792934</td>\n",
       "      <td>H211800</td>\n",
       "    </tr>\n",
       "  </tbody>\n",
       "</table>\n",
       "</div>"
      ],
      "text/plain": [
       "                userid  product\n",
       "548   5942997097932061   K43931\n",
       "549  23951842225160889  H211370\n",
       "550  23951842225160889  H211370\n",
       "551  30833658052409950  H211394\n",
       "552  33873861847792934  H211800"
      ]
     },
     "execution_count": 59,
     "metadata": {},
     "output_type": "execute_result"
    }
   ],
   "source": [
    "final_con3.head()"
   ]
  },
  {
   "cell_type": "code",
   "execution_count": null,
   "metadata": {},
   "outputs": [],
   "source": [
    "final_con2.isna().sum()"
   ]
  },
  {
   "cell_type": "code",
   "execution_count": null,
   "metadata": {},
   "outputs": [],
   "source": [
    "bh2.isna().sum()"
   ]
  },
  {
   "cell_type": "code",
   "execution_count": 11,
   "metadata": {},
   "outputs": [],
   "source": [
    "#create new column purchased with values set to 1 in final conversion data\n",
    "final_con3['purchased']=1"
   ]
  },
  {
   "cell_type": "code",
   "execution_count": 82,
   "metadata": {},
   "outputs": [
    {
     "data": {
      "text/plain": [
       "userid        int64\n",
       "product      object\n",
       "purchased     int64\n",
       "dtype: object"
      ]
     },
     "execution_count": 82,
     "metadata": {},
     "output_type": "execute_result"
    }
   ],
   "source": [
    "final_con3.dtypes"
   ]
  },
  {
   "cell_type": "code",
   "execution_count": 12,
   "metadata": {},
   "outputs": [],
   "source": [
    "merged=pd.merge(bh3,final_con3,on='userid', how='left')"
   ]
  },
  {
   "cell_type": "code",
   "execution_count": 13,
   "metadata": {},
   "outputs": [
    {
     "data": {
      "text/html": [
       "<div>\n",
       "<style scoped>\n",
       "    .dataframe tbody tr th:only-of-type {\n",
       "        vertical-align: middle;\n",
       "    }\n",
       "\n",
       "    .dataframe tbody tr th {\n",
       "        vertical-align: top;\n",
       "    }\n",
       "\n",
       "    .dataframe thead th {\n",
       "        text-align: right;\n",
       "    }\n",
       "</style>\n",
       "<table border=\"1\" class=\"dataframe\">\n",
       "  <thead>\n",
       "    <tr style=\"text-align: right;\">\n",
       "      <th></th>\n",
       "      <th>userid</th>\n",
       "      <th>websec</th>\n",
       "      <th>product</th>\n",
       "      <th>purchased</th>\n",
       "    </tr>\n",
       "  </thead>\n",
       "  <tbody>\n",
       "    <tr>\n",
       "      <th>0</th>\n",
       "      <td>544439661706349</td>\n",
       "      <td>product</td>\n",
       "      <td>NaN</td>\n",
       "      <td>NaN</td>\n",
       "    </tr>\n",
       "    <tr>\n",
       "      <th>1</th>\n",
       "      <td>634394594974068</td>\n",
       "      <td>content</td>\n",
       "      <td>NaN</td>\n",
       "      <td>NaN</td>\n",
       "    </tr>\n",
       "    <tr>\n",
       "      <th>2</th>\n",
       "      <td>634394594974068</td>\n",
       "      <td>content</td>\n",
       "      <td>NaN</td>\n",
       "      <td>NaN</td>\n",
       "    </tr>\n",
       "    <tr>\n",
       "      <th>3</th>\n",
       "      <td>634394594974068</td>\n",
       "      <td>content</td>\n",
       "      <td>NaN</td>\n",
       "      <td>NaN</td>\n",
       "    </tr>\n",
       "    <tr>\n",
       "      <th>4</th>\n",
       "      <td>634394594974068</td>\n",
       "      <td>content</td>\n",
       "      <td>NaN</td>\n",
       "      <td>NaN</td>\n",
       "    </tr>\n",
       "  </tbody>\n",
       "</table>\n",
       "</div>"
      ],
      "text/plain": [
       "            userid   websec product  purchased\n",
       "0  544439661706349  product     NaN        NaN\n",
       "1  634394594974068  content     NaN        NaN\n",
       "2  634394594974068  content     NaN        NaN\n",
       "3  634394594974068  content     NaN        NaN\n",
       "4  634394594974068  content     NaN        NaN"
      ]
     },
     "execution_count": 13,
     "metadata": {},
     "output_type": "execute_result"
    }
   ],
   "source": [
    "merged.head()"
   ]
  },
  {
   "cell_type": "code",
   "execution_count": 14,
   "metadata": {},
   "outputs": [
    {
     "data": {
      "text/html": [
       "<div>\n",
       "<style scoped>\n",
       "    .dataframe tbody tr th:only-of-type {\n",
       "        vertical-align: middle;\n",
       "    }\n",
       "\n",
       "    .dataframe tbody tr th {\n",
       "        vertical-align: top;\n",
       "    }\n",
       "\n",
       "    .dataframe thead th {\n",
       "        text-align: right;\n",
       "    }\n",
       "</style>\n",
       "<table border=\"1\" class=\"dataframe\">\n",
       "  <thead>\n",
       "    <tr style=\"text-align: right;\">\n",
       "      <th></th>\n",
       "      <th>userid</th>\n",
       "      <th>websec</th>\n",
       "      <th>product</th>\n",
       "      <th>purchased</th>\n",
       "    </tr>\n",
       "  </thead>\n",
       "  <tbody>\n",
       "    <tr>\n",
       "      <th>4923843</th>\n",
       "      <td>9221827579306644828</td>\n",
       "      <td>product</td>\n",
       "      <td>K45797</td>\n",
       "      <td>1.0</td>\n",
       "    </tr>\n",
       "    <tr>\n",
       "      <th>4923844</th>\n",
       "      <td>9221827579306644828</td>\n",
       "      <td>product</td>\n",
       "      <td>V34417</td>\n",
       "      <td>1.0</td>\n",
       "    </tr>\n",
       "    <tr>\n",
       "      <th>4923845</th>\n",
       "      <td>9221827579306644828</td>\n",
       "      <td>product</td>\n",
       "      <td>K45797</td>\n",
       "      <td>1.0</td>\n",
       "    </tr>\n",
       "    <tr>\n",
       "      <th>4923846</th>\n",
       "      <td>9221827579306644828</td>\n",
       "      <td>product</td>\n",
       "      <td>V34417</td>\n",
       "      <td>1.0</td>\n",
       "    </tr>\n",
       "    <tr>\n",
       "      <th>4923847</th>\n",
       "      <td>9223103337073924884</td>\n",
       "      <td>product</td>\n",
       "      <td>NaN</td>\n",
       "      <td>NaN</td>\n",
       "    </tr>\n",
       "  </tbody>\n",
       "</table>\n",
       "</div>"
      ],
      "text/plain": [
       "                      userid   websec product  purchased\n",
       "4923843  9221827579306644828  product  K45797        1.0\n",
       "4923844  9221827579306644828  product  V34417        1.0\n",
       "4923845  9221827579306644828  product  K45797        1.0\n",
       "4923846  9221827579306644828  product  V34417        1.0\n",
       "4923847  9223103337073924884  product     NaN        NaN"
      ]
     },
     "execution_count": 14,
     "metadata": {},
     "output_type": "execute_result"
    }
   ],
   "source": [
    "merged.tail()"
   ]
  },
  {
   "cell_type": "code",
   "execution_count": 75,
   "metadata": {},
   "outputs": [
    {
     "data": {
      "text/plain": [
       "(4923848, 4)"
      ]
     },
     "execution_count": 75,
     "metadata": {},
     "output_type": "execute_result"
    }
   ],
   "source": [
    "merged.shape"
   ]
  },
  {
   "cell_type": "code",
   "execution_count": 72,
   "metadata": {},
   "outputs": [
    {
     "data": {
      "text/plain": [
       "userid       4923848\n",
       "websec       4923848\n",
       "product      1643740\n",
       "purchased    1643740\n",
       "dtype: int64"
      ]
     },
     "execution_count": 72,
     "metadata": {},
     "output_type": "execute_result"
    }
   ],
   "source": [
    "merged.count()"
   ]
  },
  {
   "cell_type": "code",
   "execution_count": 87,
   "metadata": {},
   "outputs": [
    {
     "data": {
      "text/plain": [
       "userid         int64\n",
       "websec        object\n",
       "product       object\n",
       "purchased    float64\n",
       "dtype: object"
      ]
     },
     "execution_count": 87,
     "metadata": {},
     "output_type": "execute_result"
    }
   ],
   "source": [
    "merged.dtypes"
   ]
  },
  {
   "cell_type": "code",
   "execution_count": 14,
   "metadata": {},
   "outputs": [],
   "source": [
    "merged['purchased']=merged['purchased'].replace(np.nan, 0)"
   ]
  },
  {
   "cell_type": "code",
   "execution_count": 173,
   "metadata": {},
   "outputs": [
    {
     "data": {
      "text/plain": [
       "userid             0\n",
       "websec             0\n",
       "product      3280108\n",
       "purchased          0\n",
       "dtype: int64"
      ]
     },
     "execution_count": 173,
     "metadata": {},
     "output_type": "execute_result"
    }
   ],
   "source": [
    "merged.isna().sum()"
   ]
  },
  {
   "cell_type": "code",
   "execution_count": 108,
   "metadata": {},
   "outputs": [
    {
     "data": {
      "text/plain": [
       "userid        int64\n",
       "websec       object\n",
       "product      object\n",
       "purchased     int32\n",
       "dtype: object"
      ]
     },
     "execution_count": 108,
     "metadata": {},
     "output_type": "execute_result"
    }
   ],
   "source": [
    "merged.dtypes"
   ]
  },
  {
   "cell_type": "code",
   "execution_count": 15,
   "metadata": {},
   "outputs": [],
   "source": [
    "#change datatype of purchased column to int\n",
    "merged['purchased']=merged.purchased.astype(int)"
   ]
  },
  {
   "cell_type": "code",
   "execution_count": 175,
   "metadata": {},
   "outputs": [
    {
     "data": {
      "text/plain": [
       "userid             0\n",
       "websec             0\n",
       "product      3280108\n",
       "purchased          0\n",
       "dtype: int64"
      ]
     },
     "execution_count": 175,
     "metadata": {},
     "output_type": "execute_result"
    }
   ],
   "source": [
    "#checking the missing values in each column\n",
    "merged.isnull().sum()"
   ]
  },
  {
   "cell_type": "code",
   "execution_count": 167,
   "metadata": {},
   "outputs": [
    {
     "data": {
      "text/html": [
       "<div>\n",
       "<style scoped>\n",
       "    .dataframe tbody tr th:only-of-type {\n",
       "        vertical-align: middle;\n",
       "    }\n",
       "\n",
       "    .dataframe tbody tr th {\n",
       "        vertical-align: top;\n",
       "    }\n",
       "\n",
       "    .dataframe thead th {\n",
       "        text-align: right;\n",
       "    }\n",
       "</style>\n",
       "<table border=\"1\" class=\"dataframe\">\n",
       "  <thead>\n",
       "    <tr style=\"text-align: right;\">\n",
       "      <th></th>\n",
       "      <th>userid</th>\n",
       "      <th>websec</th>\n",
       "      <th>product</th>\n",
       "      <th>purchased</th>\n",
       "    </tr>\n",
       "  </thead>\n",
       "  <tbody>\n",
       "    <tr>\n",
       "      <th>0</th>\n",
       "      <td>544439661706349</td>\n",
       "      <td>product</td>\n",
       "      <td>NaN</td>\n",
       "      <td>0</td>\n",
       "    </tr>\n",
       "    <tr>\n",
       "      <th>1</th>\n",
       "      <td>634394594974068</td>\n",
       "      <td>content</td>\n",
       "      <td>NaN</td>\n",
       "      <td>0</td>\n",
       "    </tr>\n",
       "    <tr>\n",
       "      <th>2</th>\n",
       "      <td>634394594974068</td>\n",
       "      <td>content</td>\n",
       "      <td>NaN</td>\n",
       "      <td>0</td>\n",
       "    </tr>\n",
       "    <tr>\n",
       "      <th>3</th>\n",
       "      <td>634394594974068</td>\n",
       "      <td>content</td>\n",
       "      <td>NaN</td>\n",
       "      <td>0</td>\n",
       "    </tr>\n",
       "    <tr>\n",
       "      <th>4</th>\n",
       "      <td>634394594974068</td>\n",
       "      <td>content</td>\n",
       "      <td>NaN</td>\n",
       "      <td>0</td>\n",
       "    </tr>\n",
       "  </tbody>\n",
       "</table>\n",
       "</div>"
      ],
      "text/plain": [
       "            userid   websec product  purchased\n",
       "0  544439661706349  product     NaN          0\n",
       "1  634394594974068  content     NaN          0\n",
       "2  634394594974068  content     NaN          0\n",
       "3  634394594974068  content     NaN          0\n",
       "4  634394594974068  content     NaN          0"
      ]
     },
     "execution_count": 167,
     "metadata": {},
     "output_type": "execute_result"
    }
   ],
   "source": [
    "merged.head()"
   ]
  },
  {
   "cell_type": "code",
   "execution_count": 16,
   "metadata": {},
   "outputs": [
    {
     "data": {
      "text/html": [
       "<div>\n",
       "<style scoped>\n",
       "    .dataframe tbody tr th:only-of-type {\n",
       "        vertical-align: middle;\n",
       "    }\n",
       "\n",
       "    .dataframe tbody tr th {\n",
       "        vertical-align: top;\n",
       "    }\n",
       "\n",
       "    .dataframe thead th {\n",
       "        text-align: right;\n",
       "    }\n",
       "</style>\n",
       "<table border=\"1\" class=\"dataframe\">\n",
       "  <thead>\n",
       "    <tr style=\"text-align: right;\">\n",
       "      <th></th>\n",
       "      <th>userid</th>\n",
       "      <th>product</th>\n",
       "      <th>purchased</th>\n",
       "      <th>websec_cart</th>\n",
       "      <th>websec_category</th>\n",
       "      <th>websec_content</th>\n",
       "      <th>websec_default</th>\n",
       "      <th>websec_error</th>\n",
       "      <th>websec_home</th>\n",
       "      <th>websec_iroa</th>\n",
       "      <th>websec_lorigreiner</th>\n",
       "      <th>websec_mys</th>\n",
       "      <th>websec_product</th>\n",
       "      <th>websec_product-listing-category</th>\n",
       "      <th>websec_product-listing-custom</th>\n",
       "      <th>websec_product-listing-search</th>\n",
       "      <th>websec_productNotFound</th>\n",
       "      <th>websec_shoplive</th>\n",
       "      <th>websec_signupcomplete</th>\n",
       "    </tr>\n",
       "  </thead>\n",
       "  <tbody>\n",
       "    <tr>\n",
       "      <th>0</th>\n",
       "      <td>544439661706349</td>\n",
       "      <td>NaN</td>\n",
       "      <td>0</td>\n",
       "      <td>0</td>\n",
       "      <td>0</td>\n",
       "      <td>0</td>\n",
       "      <td>0</td>\n",
       "      <td>0</td>\n",
       "      <td>0</td>\n",
       "      <td>0</td>\n",
       "      <td>0</td>\n",
       "      <td>0</td>\n",
       "      <td>1</td>\n",
       "      <td>0</td>\n",
       "      <td>0</td>\n",
       "      <td>0</td>\n",
       "      <td>0</td>\n",
       "      <td>0</td>\n",
       "      <td>0</td>\n",
       "    </tr>\n",
       "    <tr>\n",
       "      <th>1</th>\n",
       "      <td>634394594974068</td>\n",
       "      <td>NaN</td>\n",
       "      <td>0</td>\n",
       "      <td>0</td>\n",
       "      <td>0</td>\n",
       "      <td>1</td>\n",
       "      <td>0</td>\n",
       "      <td>0</td>\n",
       "      <td>0</td>\n",
       "      <td>0</td>\n",
       "      <td>0</td>\n",
       "      <td>0</td>\n",
       "      <td>0</td>\n",
       "      <td>0</td>\n",
       "      <td>0</td>\n",
       "      <td>0</td>\n",
       "      <td>0</td>\n",
       "      <td>0</td>\n",
       "      <td>0</td>\n",
       "    </tr>\n",
       "    <tr>\n",
       "      <th>2</th>\n",
       "      <td>634394594974068</td>\n",
       "      <td>NaN</td>\n",
       "      <td>0</td>\n",
       "      <td>0</td>\n",
       "      <td>0</td>\n",
       "      <td>1</td>\n",
       "      <td>0</td>\n",
       "      <td>0</td>\n",
       "      <td>0</td>\n",
       "      <td>0</td>\n",
       "      <td>0</td>\n",
       "      <td>0</td>\n",
       "      <td>0</td>\n",
       "      <td>0</td>\n",
       "      <td>0</td>\n",
       "      <td>0</td>\n",
       "      <td>0</td>\n",
       "      <td>0</td>\n",
       "      <td>0</td>\n",
       "    </tr>\n",
       "    <tr>\n",
       "      <th>3</th>\n",
       "      <td>634394594974068</td>\n",
       "      <td>NaN</td>\n",
       "      <td>0</td>\n",
       "      <td>0</td>\n",
       "      <td>0</td>\n",
       "      <td>1</td>\n",
       "      <td>0</td>\n",
       "      <td>0</td>\n",
       "      <td>0</td>\n",
       "      <td>0</td>\n",
       "      <td>0</td>\n",
       "      <td>0</td>\n",
       "      <td>0</td>\n",
       "      <td>0</td>\n",
       "      <td>0</td>\n",
       "      <td>0</td>\n",
       "      <td>0</td>\n",
       "      <td>0</td>\n",
       "      <td>0</td>\n",
       "    </tr>\n",
       "    <tr>\n",
       "      <th>4</th>\n",
       "      <td>634394594974068</td>\n",
       "      <td>NaN</td>\n",
       "      <td>0</td>\n",
       "      <td>0</td>\n",
       "      <td>0</td>\n",
       "      <td>1</td>\n",
       "      <td>0</td>\n",
       "      <td>0</td>\n",
       "      <td>0</td>\n",
       "      <td>0</td>\n",
       "      <td>0</td>\n",
       "      <td>0</td>\n",
       "      <td>0</td>\n",
       "      <td>0</td>\n",
       "      <td>0</td>\n",
       "      <td>0</td>\n",
       "      <td>0</td>\n",
       "      <td>0</td>\n",
       "      <td>0</td>\n",
       "    </tr>\n",
       "    <tr>\n",
       "      <th>5</th>\n",
       "      <td>887103105578626</td>\n",
       "      <td>A293532</td>\n",
       "      <td>1</td>\n",
       "      <td>1</td>\n",
       "      <td>0</td>\n",
       "      <td>0</td>\n",
       "      <td>0</td>\n",
       "      <td>0</td>\n",
       "      <td>0</td>\n",
       "      <td>0</td>\n",
       "      <td>0</td>\n",
       "      <td>0</td>\n",
       "      <td>0</td>\n",
       "      <td>0</td>\n",
       "      <td>0</td>\n",
       "      <td>0</td>\n",
       "      <td>0</td>\n",
       "      <td>0</td>\n",
       "      <td>0</td>\n",
       "    </tr>\n",
       "    <tr>\n",
       "      <th>6</th>\n",
       "      <td>887103105578626</td>\n",
       "      <td>A293532</td>\n",
       "      <td>1</td>\n",
       "      <td>0</td>\n",
       "      <td>0</td>\n",
       "      <td>0</td>\n",
       "      <td>0</td>\n",
       "      <td>0</td>\n",
       "      <td>0</td>\n",
       "      <td>0</td>\n",
       "      <td>0</td>\n",
       "      <td>0</td>\n",
       "      <td>1</td>\n",
       "      <td>0</td>\n",
       "      <td>0</td>\n",
       "      <td>0</td>\n",
       "      <td>0</td>\n",
       "      <td>0</td>\n",
       "      <td>0</td>\n",
       "    </tr>\n",
       "    <tr>\n",
       "      <th>7</th>\n",
       "      <td>962713767308725</td>\n",
       "      <td>A300254</td>\n",
       "      <td>1</td>\n",
       "      <td>0</td>\n",
       "      <td>0</td>\n",
       "      <td>0</td>\n",
       "      <td>0</td>\n",
       "      <td>0</td>\n",
       "      <td>0</td>\n",
       "      <td>0</td>\n",
       "      <td>0</td>\n",
       "      <td>0</td>\n",
       "      <td>0</td>\n",
       "      <td>1</td>\n",
       "      <td>0</td>\n",
       "      <td>0</td>\n",
       "      <td>0</td>\n",
       "      <td>0</td>\n",
       "      <td>0</td>\n",
       "    </tr>\n",
       "    <tr>\n",
       "      <th>8</th>\n",
       "      <td>962713767308725</td>\n",
       "      <td>A283870</td>\n",
       "      <td>1</td>\n",
       "      <td>0</td>\n",
       "      <td>0</td>\n",
       "      <td>0</td>\n",
       "      <td>0</td>\n",
       "      <td>0</td>\n",
       "      <td>0</td>\n",
       "      <td>0</td>\n",
       "      <td>0</td>\n",
       "      <td>0</td>\n",
       "      <td>0</td>\n",
       "      <td>1</td>\n",
       "      <td>0</td>\n",
       "      <td>0</td>\n",
       "      <td>0</td>\n",
       "      <td>0</td>\n",
       "      <td>0</td>\n",
       "    </tr>\n",
       "    <tr>\n",
       "      <th>9</th>\n",
       "      <td>962713767308725</td>\n",
       "      <td>A300254</td>\n",
       "      <td>1</td>\n",
       "      <td>0</td>\n",
       "      <td>0</td>\n",
       "      <td>0</td>\n",
       "      <td>0</td>\n",
       "      <td>0</td>\n",
       "      <td>0</td>\n",
       "      <td>0</td>\n",
       "      <td>0</td>\n",
       "      <td>0</td>\n",
       "      <td>1</td>\n",
       "      <td>0</td>\n",
       "      <td>0</td>\n",
       "      <td>0</td>\n",
       "      <td>0</td>\n",
       "      <td>0</td>\n",
       "      <td>0</td>\n",
       "    </tr>\n",
       "  </tbody>\n",
       "</table>\n",
       "</div>"
      ],
      "text/plain": [
       "            userid  product  purchased  websec_cart  websec_category  \\\n",
       "0  544439661706349      NaN          0            0                0   \n",
       "1  634394594974068      NaN          0            0                0   \n",
       "2  634394594974068      NaN          0            0                0   \n",
       "3  634394594974068      NaN          0            0                0   \n",
       "4  634394594974068      NaN          0            0                0   \n",
       "5  887103105578626  A293532          1            1                0   \n",
       "6  887103105578626  A293532          1            0                0   \n",
       "7  962713767308725  A300254          1            0                0   \n",
       "8  962713767308725  A283870          1            0                0   \n",
       "9  962713767308725  A300254          1            0                0   \n",
       "\n",
       "   websec_content  websec_default  websec_error  websec_home  websec_iroa  \\\n",
       "0               0               0             0            0            0   \n",
       "1               1               0             0            0            0   \n",
       "2               1               0             0            0            0   \n",
       "3               1               0             0            0            0   \n",
       "4               1               0             0            0            0   \n",
       "5               0               0             0            0            0   \n",
       "6               0               0             0            0            0   \n",
       "7               0               0             0            0            0   \n",
       "8               0               0             0            0            0   \n",
       "9               0               0             0            0            0   \n",
       "\n",
       "   websec_lorigreiner  websec_mys  websec_product  \\\n",
       "0                   0           0               1   \n",
       "1                   0           0               0   \n",
       "2                   0           0               0   \n",
       "3                   0           0               0   \n",
       "4                   0           0               0   \n",
       "5                   0           0               0   \n",
       "6                   0           0               1   \n",
       "7                   0           0               0   \n",
       "8                   0           0               0   \n",
       "9                   0           0               1   \n",
       "\n",
       "   websec_product-listing-category  websec_product-listing-custom  \\\n",
       "0                                0                              0   \n",
       "1                                0                              0   \n",
       "2                                0                              0   \n",
       "3                                0                              0   \n",
       "4                                0                              0   \n",
       "5                                0                              0   \n",
       "6                                0                              0   \n",
       "7                                1                              0   \n",
       "8                                1                              0   \n",
       "9                                0                              0   \n",
       "\n",
       "   websec_product-listing-search  websec_productNotFound  websec_shoplive  \\\n",
       "0                              0                       0                0   \n",
       "1                              0                       0                0   \n",
       "2                              0                       0                0   \n",
       "3                              0                       0                0   \n",
       "4                              0                       0                0   \n",
       "5                              0                       0                0   \n",
       "6                              0                       0                0   \n",
       "7                              0                       0                0   \n",
       "8                              0                       0                0   \n",
       "9                              0                       0                0   \n",
       "\n",
       "   websec_signupcomplete  \n",
       "0                      0  \n",
       "1                      0  \n",
       "2                      0  \n",
       "3                      0  \n",
       "4                      0  \n",
       "5                      0  \n",
       "6                      0  \n",
       "7                      0  \n",
       "8                      0  \n",
       "9                      0  "
      ]
     },
     "execution_count": 16,
     "metadata": {},
     "output_type": "execute_result"
    }
   ],
   "source": [
    "from sklearn.preprocessing import LabelEncoder\n",
    "from sklearn.preprocessing import OneHotEncoder\n",
    "#le_websec = LabelEncoder()\n",
    "\n",
    "#merged['websec_code'] = le_websec.fit_transform(merged['websec'])\n",
    "\n",
    "\n",
    "merged = pd.get_dummies(merged, columns=['websec'], prefix = ['websec'])\n",
    "\n",
    "merged.head(10)"
   ]
  },
  {
   "cell_type": "code",
   "execution_count": 18,
   "metadata": {},
   "outputs": [
    {
     "data": {
      "text/html": [
       "<div>\n",
       "<style scoped>\n",
       "    .dataframe tbody tr th:only-of-type {\n",
       "        vertical-align: middle;\n",
       "    }\n",
       "\n",
       "    .dataframe tbody tr th {\n",
       "        vertical-align: top;\n",
       "    }\n",
       "\n",
       "    .dataframe thead th {\n",
       "        text-align: right;\n",
       "    }\n",
       "</style>\n",
       "<table border=\"1\" class=\"dataframe\">\n",
       "  <thead>\n",
       "    <tr style=\"text-align: right;\">\n",
       "      <th></th>\n",
       "      <th>userid</th>\n",
       "      <th>product</th>\n",
       "      <th>purchased</th>\n",
       "      <th>websec_cart</th>\n",
       "      <th>websec_category</th>\n",
       "      <th>websec_content</th>\n",
       "      <th>websec_default</th>\n",
       "      <th>websec_error</th>\n",
       "      <th>websec_home</th>\n",
       "      <th>websec_iroa</th>\n",
       "      <th>websec_lorigreiner</th>\n",
       "      <th>websec_mys</th>\n",
       "      <th>websec_product</th>\n",
       "      <th>websec_product-listing-category</th>\n",
       "      <th>websec_product-listing-custom</th>\n",
       "      <th>websec_product-listing-search</th>\n",
       "      <th>websec_productNotFound</th>\n",
       "      <th>websec_shoplive</th>\n",
       "      <th>websec_signupcomplete</th>\n",
       "    </tr>\n",
       "  </thead>\n",
       "  <tbody>\n",
       "    <tr>\n",
       "      <th>4923843</th>\n",
       "      <td>9221827579306644828</td>\n",
       "      <td>K45797</td>\n",
       "      <td>1</td>\n",
       "      <td>0</td>\n",
       "      <td>0</td>\n",
       "      <td>0</td>\n",
       "      <td>0</td>\n",
       "      <td>0</td>\n",
       "      <td>0</td>\n",
       "      <td>0</td>\n",
       "      <td>0</td>\n",
       "      <td>0</td>\n",
       "      <td>1</td>\n",
       "      <td>0</td>\n",
       "      <td>0</td>\n",
       "      <td>0</td>\n",
       "      <td>0</td>\n",
       "      <td>0</td>\n",
       "      <td>0</td>\n",
       "    </tr>\n",
       "    <tr>\n",
       "      <th>4923844</th>\n",
       "      <td>9221827579306644828</td>\n",
       "      <td>V34417</td>\n",
       "      <td>1</td>\n",
       "      <td>0</td>\n",
       "      <td>0</td>\n",
       "      <td>0</td>\n",
       "      <td>0</td>\n",
       "      <td>0</td>\n",
       "      <td>0</td>\n",
       "      <td>0</td>\n",
       "      <td>0</td>\n",
       "      <td>0</td>\n",
       "      <td>1</td>\n",
       "      <td>0</td>\n",
       "      <td>0</td>\n",
       "      <td>0</td>\n",
       "      <td>0</td>\n",
       "      <td>0</td>\n",
       "      <td>0</td>\n",
       "    </tr>\n",
       "    <tr>\n",
       "      <th>4923845</th>\n",
       "      <td>9221827579306644828</td>\n",
       "      <td>K45797</td>\n",
       "      <td>1</td>\n",
       "      <td>0</td>\n",
       "      <td>0</td>\n",
       "      <td>0</td>\n",
       "      <td>0</td>\n",
       "      <td>0</td>\n",
       "      <td>0</td>\n",
       "      <td>0</td>\n",
       "      <td>0</td>\n",
       "      <td>0</td>\n",
       "      <td>1</td>\n",
       "      <td>0</td>\n",
       "      <td>0</td>\n",
       "      <td>0</td>\n",
       "      <td>0</td>\n",
       "      <td>0</td>\n",
       "      <td>0</td>\n",
       "    </tr>\n",
       "    <tr>\n",
       "      <th>4923846</th>\n",
       "      <td>9221827579306644828</td>\n",
       "      <td>V34417</td>\n",
       "      <td>1</td>\n",
       "      <td>0</td>\n",
       "      <td>0</td>\n",
       "      <td>0</td>\n",
       "      <td>0</td>\n",
       "      <td>0</td>\n",
       "      <td>0</td>\n",
       "      <td>0</td>\n",
       "      <td>0</td>\n",
       "      <td>0</td>\n",
       "      <td>1</td>\n",
       "      <td>0</td>\n",
       "      <td>0</td>\n",
       "      <td>0</td>\n",
       "      <td>0</td>\n",
       "      <td>0</td>\n",
       "      <td>0</td>\n",
       "    </tr>\n",
       "    <tr>\n",
       "      <th>4923847</th>\n",
       "      <td>9223103337073924884</td>\n",
       "      <td>NaN</td>\n",
       "      <td>0</td>\n",
       "      <td>0</td>\n",
       "      <td>0</td>\n",
       "      <td>0</td>\n",
       "      <td>0</td>\n",
       "      <td>0</td>\n",
       "      <td>0</td>\n",
       "      <td>0</td>\n",
       "      <td>0</td>\n",
       "      <td>0</td>\n",
       "      <td>1</td>\n",
       "      <td>0</td>\n",
       "      <td>0</td>\n",
       "      <td>0</td>\n",
       "      <td>0</td>\n",
       "      <td>0</td>\n",
       "      <td>0</td>\n",
       "    </tr>\n",
       "  </tbody>\n",
       "</table>\n",
       "</div>"
      ],
      "text/plain": [
       "                      userid product  purchased  websec_cart  websec_category  \\\n",
       "4923843  9221827579306644828  K45797          1            0                0   \n",
       "4923844  9221827579306644828  V34417          1            0                0   \n",
       "4923845  9221827579306644828  K45797          1            0                0   \n",
       "4923846  9221827579306644828  V34417          1            0                0   \n",
       "4923847  9223103337073924884     NaN          0            0                0   \n",
       "\n",
       "         websec_content  websec_default  websec_error  websec_home  \\\n",
       "4923843               0               0             0            0   \n",
       "4923844               0               0             0            0   \n",
       "4923845               0               0             0            0   \n",
       "4923846               0               0             0            0   \n",
       "4923847               0               0             0            0   \n",
       "\n",
       "         websec_iroa  websec_lorigreiner  websec_mys  websec_product  \\\n",
       "4923843            0                   0           0               1   \n",
       "4923844            0                   0           0               1   \n",
       "4923845            0                   0           0               1   \n",
       "4923846            0                   0           0               1   \n",
       "4923847            0                   0           0               1   \n",
       "\n",
       "         websec_product-listing-category  websec_product-listing-custom  \\\n",
       "4923843                                0                              0   \n",
       "4923844                                0                              0   \n",
       "4923845                                0                              0   \n",
       "4923846                                0                              0   \n",
       "4923847                                0                              0   \n",
       "\n",
       "         websec_product-listing-search  websec_productNotFound  \\\n",
       "4923843                              0                       0   \n",
       "4923844                              0                       0   \n",
       "4923845                              0                       0   \n",
       "4923846                              0                       0   \n",
       "4923847                              0                       0   \n",
       "\n",
       "         websec_shoplive  websec_signupcomplete  \n",
       "4923843                0                      0  \n",
       "4923844                0                      0  \n",
       "4923845                0                      0  \n",
       "4923846                0                      0  \n",
       "4923847                0                      0  "
      ]
     },
     "execution_count": 18,
     "metadata": {},
     "output_type": "execute_result"
    }
   ],
   "source": [
    "merged.tail()\n"
   ]
  },
  {
   "cell_type": "code",
   "execution_count": 18,
   "metadata": {},
   "outputs": [],
   "source": [
    "merged['product']=merged['product'].replace(np.nan, 0)"
   ]
  },
  {
   "cell_type": "code",
   "execution_count": 178,
   "metadata": {},
   "outputs": [
    {
     "data": {
      "text/plain": [
       "userid                              int64\n",
       "product                            object\n",
       "purchased                           int32\n",
       "websec_cart                         uint8\n",
       "websec_category                     uint8\n",
       "websec_content                      uint8\n",
       "websec_default                      uint8\n",
       "websec_error                        uint8\n",
       "websec_home                         uint8\n",
       "websec_iroa                         uint8\n",
       "websec_lorigreiner                  uint8\n",
       "websec_mys                          uint8\n",
       "websec_product                      uint8\n",
       "websec_product-listing-category     uint8\n",
       "websec_product-listing-custom       uint8\n",
       "websec_product-listing-search       uint8\n",
       "websec_productNotFound              uint8\n",
       "websec_shoplive                     uint8\n",
       "websec_signupcomplete               uint8\n",
       "dtype: object"
      ]
     },
     "execution_count": 178,
     "metadata": {},
     "output_type": "execute_result"
    }
   ],
   "source": [
    "merged.dtypes"
   ]
  },
  {
   "cell_type": "code",
   "execution_count": 19,
   "metadata": {},
   "outputs": [],
   "source": [
    "merged['product'] =merged['product'].astype('category')"
   ]
  },
  {
   "cell_type": "code",
   "execution_count": 20,
   "metadata": {},
   "outputs": [],
   "source": [
    "#Encoding product column \n",
    "le_product = LabelEncoder()\n",
    "merged['product'] = le_product.fit_transform(merged['product'].astype(str))"
   ]
  },
  {
   "cell_type": "code",
   "execution_count": 181,
   "metadata": {},
   "outputs": [
    {
     "data": {
      "text/plain": [
       "10964"
      ]
     },
     "execution_count": 181,
     "metadata": {},
     "output_type": "execute_result"
    }
   ],
   "source": [
    "merged['product'].nunique()\n"
   ]
  },
  {
   "cell_type": "code",
   "execution_count": 183,
   "metadata": {},
   "outputs": [
    {
     "data": {
      "text/plain": [
       "516931"
      ]
     },
     "execution_count": 183,
     "metadata": {},
     "output_type": "execute_result"
    }
   ],
   "source": [
    "merged['userid'].nunique()"
   ]
  },
  {
   "cell_type": "code",
   "execution_count": 184,
   "metadata": {},
   "outputs": [
    {
     "data": {
      "text/plain": [
       "purchased\n",
       "0    3280108\n",
       "1    1643740\n",
       "Name: userid, dtype: int64"
      ]
     },
     "execution_count": 184,
     "metadata": {},
     "output_type": "execute_result"
    }
   ],
   "source": [
    "#No of people purchased product vs not purchased product\n",
    "merged.groupby('purchased')['userid'].count()\n"
   ]
  },
  {
   "cell_type": "code",
   "execution_count": 191,
   "metadata": {
    "scrolled": true
   },
   "outputs": [
    {
     "data": {
      "text/html": [
       "<div>\n",
       "<style scoped>\n",
       "    .dataframe tbody tr th:only-of-type {\n",
       "        vertical-align: middle;\n",
       "    }\n",
       "\n",
       "    .dataframe tbody tr th {\n",
       "        vertical-align: top;\n",
       "    }\n",
       "\n",
       "    .dataframe thead th {\n",
       "        text-align: right;\n",
       "    }\n",
       "</style>\n",
       "<table border=\"1\" class=\"dataframe\">\n",
       "  <thead>\n",
       "    <tr style=\"text-align: right;\">\n",
       "      <th></th>\n",
       "      <th>userid</th>\n",
       "      <th>purchased</th>\n",
       "      <th>websec_cart</th>\n",
       "      <th>websec_category</th>\n",
       "      <th>websec_content</th>\n",
       "      <th>websec_default</th>\n",
       "      <th>websec_error</th>\n",
       "      <th>websec_home</th>\n",
       "      <th>websec_iroa</th>\n",
       "      <th>websec_lorigreiner</th>\n",
       "      <th>websec_mys</th>\n",
       "      <th>websec_product</th>\n",
       "      <th>websec_product-listing-category</th>\n",
       "      <th>websec_product-listing-custom</th>\n",
       "      <th>websec_product-listing-search</th>\n",
       "      <th>websec_productNotFound</th>\n",
       "      <th>websec_shoplive</th>\n",
       "      <th>websec_signupcomplete</th>\n",
       "    </tr>\n",
       "  </thead>\n",
       "  <tbody>\n",
       "    <tr>\n",
       "      <th>0</th>\n",
       "      <td>544439661706349</td>\n",
       "      <td>0</td>\n",
       "      <td>0</td>\n",
       "      <td>0</td>\n",
       "      <td>0</td>\n",
       "      <td>0</td>\n",
       "      <td>0</td>\n",
       "      <td>0</td>\n",
       "      <td>0</td>\n",
       "      <td>0</td>\n",
       "      <td>0</td>\n",
       "      <td>1</td>\n",
       "      <td>0</td>\n",
       "      <td>0</td>\n",
       "      <td>0</td>\n",
       "      <td>0</td>\n",
       "      <td>0</td>\n",
       "      <td>0</td>\n",
       "    </tr>\n",
       "    <tr>\n",
       "      <th>1</th>\n",
       "      <td>634394594974068</td>\n",
       "      <td>0</td>\n",
       "      <td>0</td>\n",
       "      <td>0</td>\n",
       "      <td>1</td>\n",
       "      <td>0</td>\n",
       "      <td>0</td>\n",
       "      <td>0</td>\n",
       "      <td>0</td>\n",
       "      <td>0</td>\n",
       "      <td>0</td>\n",
       "      <td>0</td>\n",
       "      <td>0</td>\n",
       "      <td>0</td>\n",
       "      <td>0</td>\n",
       "      <td>0</td>\n",
       "      <td>0</td>\n",
       "      <td>0</td>\n",
       "    </tr>\n",
       "    <tr>\n",
       "      <th>2</th>\n",
       "      <td>634394594974068</td>\n",
       "      <td>0</td>\n",
       "      <td>0</td>\n",
       "      <td>0</td>\n",
       "      <td>1</td>\n",
       "      <td>0</td>\n",
       "      <td>0</td>\n",
       "      <td>0</td>\n",
       "      <td>0</td>\n",
       "      <td>0</td>\n",
       "      <td>0</td>\n",
       "      <td>0</td>\n",
       "      <td>0</td>\n",
       "      <td>0</td>\n",
       "      <td>0</td>\n",
       "      <td>0</td>\n",
       "      <td>0</td>\n",
       "      <td>0</td>\n",
       "    </tr>\n",
       "    <tr>\n",
       "      <th>3</th>\n",
       "      <td>634394594974068</td>\n",
       "      <td>0</td>\n",
       "      <td>0</td>\n",
       "      <td>0</td>\n",
       "      <td>1</td>\n",
       "      <td>0</td>\n",
       "      <td>0</td>\n",
       "      <td>0</td>\n",
       "      <td>0</td>\n",
       "      <td>0</td>\n",
       "      <td>0</td>\n",
       "      <td>0</td>\n",
       "      <td>0</td>\n",
       "      <td>0</td>\n",
       "      <td>0</td>\n",
       "      <td>0</td>\n",
       "      <td>0</td>\n",
       "      <td>0</td>\n",
       "    </tr>\n",
       "    <tr>\n",
       "      <th>4</th>\n",
       "      <td>634394594974068</td>\n",
       "      <td>0</td>\n",
       "      <td>0</td>\n",
       "      <td>0</td>\n",
       "      <td>1</td>\n",
       "      <td>0</td>\n",
       "      <td>0</td>\n",
       "      <td>0</td>\n",
       "      <td>0</td>\n",
       "      <td>0</td>\n",
       "      <td>0</td>\n",
       "      <td>0</td>\n",
       "      <td>0</td>\n",
       "      <td>0</td>\n",
       "      <td>0</td>\n",
       "      <td>0</td>\n",
       "      <td>0</td>\n",
       "      <td>0</td>\n",
       "    </tr>\n",
       "  </tbody>\n",
       "</table>\n",
       "</div>"
      ],
      "text/plain": [
       "            userid  purchased  websec_cart  websec_category  websec_content  \\\n",
       "0  544439661706349          0            0                0               0   \n",
       "1  634394594974068          0            0                0               1   \n",
       "2  634394594974068          0            0                0               1   \n",
       "3  634394594974068          0            0                0               1   \n",
       "4  634394594974068          0            0                0               1   \n",
       "\n",
       "   websec_default  websec_error  websec_home  websec_iroa  websec_lorigreiner  \\\n",
       "0               0             0            0            0                   0   \n",
       "1               0             0            0            0                   0   \n",
       "2               0             0            0            0                   0   \n",
       "3               0             0            0            0                   0   \n",
       "4               0             0            0            0                   0   \n",
       "\n",
       "   websec_mys  websec_product  websec_product-listing-category  \\\n",
       "0           0               1                                0   \n",
       "1           0               0                                0   \n",
       "2           0               0                                0   \n",
       "3           0               0                                0   \n",
       "4           0               0                                0   \n",
       "\n",
       "   websec_product-listing-custom  websec_product-listing-search  \\\n",
       "0                              0                              0   \n",
       "1                              0                              0   \n",
       "2                              0                              0   \n",
       "3                              0                              0   \n",
       "4                              0                              0   \n",
       "\n",
       "   websec_productNotFound  websec_shoplive  websec_signupcomplete  \n",
       "0                       0                0                      0  \n",
       "1                       0                0                      0  \n",
       "2                       0                0                      0  \n",
       "3                       0                0                      0  \n",
       "4                       0                0                      0  "
      ]
     },
     "execution_count": 191,
     "metadata": {},
     "output_type": "execute_result"
    }
   ],
   "source": [
    "merged.head()"
   ]
  },
  {
   "cell_type": "code",
   "execution_count": 26,
   "metadata": {},
   "outputs": [],
   "source": [
    "merged=merged.drop(columns=['userid','product'],axis=1)"
   ]
  },
  {
   "cell_type": "code",
   "execution_count": 27,
   "metadata": {},
   "outputs": [
    {
     "data": {
      "text/html": [
       "<div>\n",
       "<style scoped>\n",
       "    .dataframe tbody tr th:only-of-type {\n",
       "        vertical-align: middle;\n",
       "    }\n",
       "\n",
       "    .dataframe tbody tr th {\n",
       "        vertical-align: top;\n",
       "    }\n",
       "\n",
       "    .dataframe thead th {\n",
       "        text-align: right;\n",
       "    }\n",
       "</style>\n",
       "<table border=\"1\" class=\"dataframe\">\n",
       "  <thead>\n",
       "    <tr style=\"text-align: right;\">\n",
       "      <th></th>\n",
       "      <th>purchased</th>\n",
       "      <th>websec_cart</th>\n",
       "      <th>websec_category</th>\n",
       "      <th>websec_content</th>\n",
       "      <th>websec_default</th>\n",
       "      <th>websec_error</th>\n",
       "      <th>websec_home</th>\n",
       "      <th>websec_iroa</th>\n",
       "      <th>websec_lorigreiner</th>\n",
       "      <th>websec_mys</th>\n",
       "      <th>websec_product</th>\n",
       "      <th>websec_product-listing-category</th>\n",
       "      <th>websec_product-listing-custom</th>\n",
       "      <th>websec_product-listing-search</th>\n",
       "      <th>websec_productNotFound</th>\n",
       "      <th>websec_shoplive</th>\n",
       "      <th>websec_signupcomplete</th>\n",
       "    </tr>\n",
       "  </thead>\n",
       "  <tbody>\n",
       "    <tr>\n",
       "      <th>4923843</th>\n",
       "      <td>1</td>\n",
       "      <td>0</td>\n",
       "      <td>0</td>\n",
       "      <td>0</td>\n",
       "      <td>0</td>\n",
       "      <td>0</td>\n",
       "      <td>0</td>\n",
       "      <td>0</td>\n",
       "      <td>0</td>\n",
       "      <td>0</td>\n",
       "      <td>1</td>\n",
       "      <td>0</td>\n",
       "      <td>0</td>\n",
       "      <td>0</td>\n",
       "      <td>0</td>\n",
       "      <td>0</td>\n",
       "      <td>0</td>\n",
       "    </tr>\n",
       "    <tr>\n",
       "      <th>4923844</th>\n",
       "      <td>1</td>\n",
       "      <td>0</td>\n",
       "      <td>0</td>\n",
       "      <td>0</td>\n",
       "      <td>0</td>\n",
       "      <td>0</td>\n",
       "      <td>0</td>\n",
       "      <td>0</td>\n",
       "      <td>0</td>\n",
       "      <td>0</td>\n",
       "      <td>1</td>\n",
       "      <td>0</td>\n",
       "      <td>0</td>\n",
       "      <td>0</td>\n",
       "      <td>0</td>\n",
       "      <td>0</td>\n",
       "      <td>0</td>\n",
       "    </tr>\n",
       "    <tr>\n",
       "      <th>4923845</th>\n",
       "      <td>1</td>\n",
       "      <td>0</td>\n",
       "      <td>0</td>\n",
       "      <td>0</td>\n",
       "      <td>0</td>\n",
       "      <td>0</td>\n",
       "      <td>0</td>\n",
       "      <td>0</td>\n",
       "      <td>0</td>\n",
       "      <td>0</td>\n",
       "      <td>1</td>\n",
       "      <td>0</td>\n",
       "      <td>0</td>\n",
       "      <td>0</td>\n",
       "      <td>0</td>\n",
       "      <td>0</td>\n",
       "      <td>0</td>\n",
       "    </tr>\n",
       "    <tr>\n",
       "      <th>4923846</th>\n",
       "      <td>1</td>\n",
       "      <td>0</td>\n",
       "      <td>0</td>\n",
       "      <td>0</td>\n",
       "      <td>0</td>\n",
       "      <td>0</td>\n",
       "      <td>0</td>\n",
       "      <td>0</td>\n",
       "      <td>0</td>\n",
       "      <td>0</td>\n",
       "      <td>1</td>\n",
       "      <td>0</td>\n",
       "      <td>0</td>\n",
       "      <td>0</td>\n",
       "      <td>0</td>\n",
       "      <td>0</td>\n",
       "      <td>0</td>\n",
       "    </tr>\n",
       "    <tr>\n",
       "      <th>4923847</th>\n",
       "      <td>0</td>\n",
       "      <td>0</td>\n",
       "      <td>0</td>\n",
       "      <td>0</td>\n",
       "      <td>0</td>\n",
       "      <td>0</td>\n",
       "      <td>0</td>\n",
       "      <td>0</td>\n",
       "      <td>0</td>\n",
       "      <td>0</td>\n",
       "      <td>1</td>\n",
       "      <td>0</td>\n",
       "      <td>0</td>\n",
       "      <td>0</td>\n",
       "      <td>0</td>\n",
       "      <td>0</td>\n",
       "      <td>0</td>\n",
       "    </tr>\n",
       "  </tbody>\n",
       "</table>\n",
       "</div>"
      ],
      "text/plain": [
       "         purchased  websec_cart  websec_category  websec_content  \\\n",
       "4923843          1            0                0               0   \n",
       "4923844          1            0                0               0   \n",
       "4923845          1            0                0               0   \n",
       "4923846          1            0                0               0   \n",
       "4923847          0            0                0               0   \n",
       "\n",
       "         websec_default  websec_error  websec_home  websec_iroa  \\\n",
       "4923843               0             0            0            0   \n",
       "4923844               0             0            0            0   \n",
       "4923845               0             0            0            0   \n",
       "4923846               0             0            0            0   \n",
       "4923847               0             0            0            0   \n",
       "\n",
       "         websec_lorigreiner  websec_mys  websec_product  \\\n",
       "4923843                   0           0               1   \n",
       "4923844                   0           0               1   \n",
       "4923845                   0           0               1   \n",
       "4923846                   0           0               1   \n",
       "4923847                   0           0               1   \n",
       "\n",
       "         websec_product-listing-category  websec_product-listing-custom  \\\n",
       "4923843                                0                              0   \n",
       "4923844                                0                              0   \n",
       "4923845                                0                              0   \n",
       "4923846                                0                              0   \n",
       "4923847                                0                              0   \n",
       "\n",
       "         websec_product-listing-search  websec_productNotFound  \\\n",
       "4923843                              0                       0   \n",
       "4923844                              0                       0   \n",
       "4923845                              0                       0   \n",
       "4923846                              0                       0   \n",
       "4923847                              0                       0   \n",
       "\n",
       "         websec_shoplive  websec_signupcomplete  \n",
       "4923843                0                      0  \n",
       "4923844                0                      0  \n",
       "4923845                0                      0  \n",
       "4923846                0                      0  \n",
       "4923847                0                      0  "
      ]
     },
     "execution_count": 27,
     "metadata": {},
     "output_type": "execute_result"
    }
   ],
   "source": [
    "merged.tail()"
   ]
  },
  {
   "cell_type": "code",
   "execution_count": 28,
   "metadata": {},
   "outputs": [
    {
     "data": {
      "text/plain": [
       "<matplotlib.axes._subplots.AxesSubplot at 0x2ac042b5470>"
      ]
     },
     "execution_count": 28,
     "metadata": {},
     "output_type": "execute_result"
    },
    {
     "data": {
      "image/png": "[encoded data removed]",
      "text/plain": [
       "<Figure size 720x576 with 2 Axes>"
      ]
     },
     "metadata": {
      "needs_background": "light"
     },
     "output_type": "display_data"
    }
   ],
   "source": [
    "#Correlation Matrix using Heatmap\n",
    "plt.figure(figsize=(10,8))\n",
    "sb.heatmap(merged.corr(), annot=False)"
   ]
  },
  {
   "cell_type": "code",
   "execution_count": 22,
   "metadata": {},
   "outputs": [
    {
     "data": {
      "text/html": [
       "<div>\n",
       "<style scoped>\n",
       "    .dataframe tbody tr th:only-of-type {\n",
       "        vertical-align: middle;\n",
       "    }\n",
       "\n",
       "    .dataframe tbody tr th {\n",
       "        vertical-align: top;\n",
       "    }\n",
       "\n",
       "    .dataframe thead th {\n",
       "        text-align: right;\n",
       "    }\n",
       "</style>\n",
       "<table border=\"1\" class=\"dataframe\">\n",
       "  <thead>\n",
       "    <tr style=\"text-align: right;\">\n",
       "      <th></th>\n",
       "      <th>userid</th>\n",
       "      <th>purchased</th>\n",
       "      <th>websec_cart</th>\n",
       "      <th>websec_category</th>\n",
       "      <th>websec_content</th>\n",
       "      <th>websec_default</th>\n",
       "      <th>websec_error</th>\n",
       "      <th>websec_home</th>\n",
       "      <th>websec_iroa</th>\n",
       "      <th>websec_lorigreiner</th>\n",
       "      <th>websec_mys</th>\n",
       "      <th>websec_product</th>\n",
       "      <th>websec_product-listing-category</th>\n",
       "      <th>websec_product-listing-custom</th>\n",
       "      <th>websec_product-listing-search</th>\n",
       "      <th>websec_productNotFound</th>\n",
       "      <th>websec_shoplive</th>\n",
       "      <th>websec_signupcomplete</th>\n",
       "    </tr>\n",
       "  </thead>\n",
       "  <tbody>\n",
       "    <tr>\n",
       "      <th>userid</th>\n",
       "      <td>1.000000</td>\n",
       "      <td>0.003873</td>\n",
       "      <td>-0.000339</td>\n",
       "      <td>-9.563762e-05</td>\n",
       "      <td>-0.001942</td>\n",
       "      <td>0.002425</td>\n",
       "      <td>-0.001534</td>\n",
       "      <td>0.000095</td>\n",
       "      <td>-0.000454</td>\n",
       "      <td>1.166802e-04</td>\n",
       "      <td>0.004641</td>\n",
       "      <td>0.001565</td>\n",
       "      <td>-0.000675</td>\n",
       "      <td>-0.001213</td>\n",
       "      <td>-0.002238</td>\n",
       "      <td>0.000600</td>\n",
       "      <td>-0.000466</td>\n",
       "      <td>0.000003</td>\n",
       "    </tr>\n",
       "    <tr>\n",
       "      <th>purchased</th>\n",
       "      <td>0.003873</td>\n",
       "      <td>1.000000</td>\n",
       "      <td>0.232503</td>\n",
       "      <td>-3.190217e-04</td>\n",
       "      <td>-0.033903</td>\n",
       "      <td>-0.049420</td>\n",
       "      <td>-0.000502</td>\n",
       "      <td>-0.050316</td>\n",
       "      <td>-0.006746</td>\n",
       "      <td>-4.511649e-04</td>\n",
       "      <td>0.002938</td>\n",
       "      <td>0.032957</td>\n",
       "      <td>-0.081743</td>\n",
       "      <td>-0.003248</td>\n",
       "      <td>-0.028027</td>\n",
       "      <td>-0.002334</td>\n",
       "      <td>-0.014162</td>\n",
       "      <td>-0.000428</td>\n",
       "    </tr>\n",
       "    <tr>\n",
       "      <th>websec_cart</th>\n",
       "      <td>-0.000339</td>\n",
       "      <td>0.232503</td>\n",
       "      <td>1.000000</td>\n",
       "      <td>-1.315921e-04</td>\n",
       "      <td>-0.089154</td>\n",
       "      <td>-0.094095</td>\n",
       "      <td>-0.000756</td>\n",
       "      <td>-0.114049</td>\n",
       "      <td>-0.087406</td>\n",
       "      <td>-1.860994e-04</td>\n",
       "      <td>-0.001368</td>\n",
       "      <td>-0.207315</td>\n",
       "      <td>-0.116838</td>\n",
       "      <td>-0.006503</td>\n",
       "      <td>-0.063969</td>\n",
       "      <td>-0.012268</td>\n",
       "      <td>-0.022737</td>\n",
       "      <td>-0.004477</td>\n",
       "    </tr>\n",
       "    <tr>\n",
       "      <th>websec_category</th>\n",
       "      <td>-0.000096</td>\n",
       "      <td>-0.000319</td>\n",
       "      <td>-0.000132</td>\n",
       "      <td>1.000000e+00</td>\n",
       "      <td>-0.000138</td>\n",
       "      <td>-0.000145</td>\n",
       "      <td>-0.000001</td>\n",
       "      <td>-0.000176</td>\n",
       "      <td>-0.000135</td>\n",
       "      <td>-2.872172e-07</td>\n",
       "      <td>-0.000002</td>\n",
       "      <td>-0.000320</td>\n",
       "      <td>-0.000180</td>\n",
       "      <td>-0.000010</td>\n",
       "      <td>-0.000099</td>\n",
       "      <td>-0.000019</td>\n",
       "      <td>-0.000035</td>\n",
       "      <td>-0.000007</td>\n",
       "    </tr>\n",
       "    <tr>\n",
       "      <th>websec_content</th>\n",
       "      <td>-0.001942</td>\n",
       "      <td>-0.033903</td>\n",
       "      <td>-0.089154</td>\n",
       "      <td>-1.375964e-04</td>\n",
       "      <td>1.000000</td>\n",
       "      <td>-0.098389</td>\n",
       "      <td>-0.000790</td>\n",
       "      <td>-0.119253</td>\n",
       "      <td>-0.091395</td>\n",
       "      <td>-1.945907e-04</td>\n",
       "      <td>-0.001430</td>\n",
       "      <td>-0.216774</td>\n",
       "      <td>-0.122169</td>\n",
       "      <td>-0.006800</td>\n",
       "      <td>-0.066888</td>\n",
       "      <td>-0.012828</td>\n",
       "      <td>-0.023774</td>\n",
       "      <td>-0.004681</td>\n",
       "    </tr>\n",
       "    <tr>\n",
       "      <th>websec_default</th>\n",
       "      <td>0.002425</td>\n",
       "      <td>-0.049420</td>\n",
       "      <td>-0.094095</td>\n",
       "      <td>-1.452226e-04</td>\n",
       "      <td>-0.098389</td>\n",
       "      <td>1.000000</td>\n",
       "      <td>-0.000834</td>\n",
       "      <td>-0.125862</td>\n",
       "      <td>-0.096460</td>\n",
       "      <td>-2.053757e-04</td>\n",
       "      <td>-0.001509</td>\n",
       "      <td>-0.228789</td>\n",
       "      <td>-0.128941</td>\n",
       "      <td>-0.007177</td>\n",
       "      <td>-0.070595</td>\n",
       "      <td>-0.013539</td>\n",
       "      <td>-0.025092</td>\n",
       "      <td>-0.004940</td>\n",
       "    </tr>\n",
       "    <tr>\n",
       "      <th>websec_error</th>\n",
       "      <td>-0.001534</td>\n",
       "      <td>-0.000502</td>\n",
       "      <td>-0.000756</td>\n",
       "      <td>-1.166686e-06</td>\n",
       "      <td>-0.000790</td>\n",
       "      <td>-0.000834</td>\n",
       "      <td>1.000000</td>\n",
       "      <td>-0.001011</td>\n",
       "      <td>-0.000775</td>\n",
       "      <td>-1.649943e-06</td>\n",
       "      <td>-0.000012</td>\n",
       "      <td>-0.001838</td>\n",
       "      <td>-0.001036</td>\n",
       "      <td>-0.000058</td>\n",
       "      <td>-0.000567</td>\n",
       "      <td>-0.000109</td>\n",
       "      <td>-0.000202</td>\n",
       "      <td>-0.000040</td>\n",
       "    </tr>\n",
       "    <tr>\n",
       "      <th>websec_home</th>\n",
       "      <td>0.000095</td>\n",
       "      <td>-0.050316</td>\n",
       "      <td>-0.114049</td>\n",
       "      <td>-1.760179e-04</td>\n",
       "      <td>-0.119253</td>\n",
       "      <td>-0.125862</td>\n",
       "      <td>-0.001011</td>\n",
       "      <td>1.000000</td>\n",
       "      <td>-0.116915</td>\n",
       "      <td>-2.489270e-04</td>\n",
       "      <td>-0.001829</td>\n",
       "      <td>-0.277305</td>\n",
       "      <td>-0.156283</td>\n",
       "      <td>-0.008699</td>\n",
       "      <td>-0.085566</td>\n",
       "      <td>-0.016410</td>\n",
       "      <td>-0.030413</td>\n",
       "      <td>-0.005988</td>\n",
       "    </tr>\n",
       "    <tr>\n",
       "      <th>websec_iroa</th>\n",
       "      <td>-0.000454</td>\n",
       "      <td>-0.006746</td>\n",
       "      <td>-0.087406</td>\n",
       "      <td>-1.348990e-04</td>\n",
       "      <td>-0.091395</td>\n",
       "      <td>-0.096460</td>\n",
       "      <td>-0.000775</td>\n",
       "      <td>-0.116915</td>\n",
       "      <td>1.000000</td>\n",
       "      <td>-1.907760e-04</td>\n",
       "      <td>-0.001402</td>\n",
       "      <td>-0.212525</td>\n",
       "      <td>-0.119775</td>\n",
       "      <td>-0.006667</td>\n",
       "      <td>-0.065577</td>\n",
       "      <td>-0.012576</td>\n",
       "      <td>-0.023308</td>\n",
       "      <td>-0.004589</td>\n",
       "    </tr>\n",
       "    <tr>\n",
       "      <th>websec_lorigreiner</th>\n",
       "      <td>0.000117</td>\n",
       "      <td>-0.000451</td>\n",
       "      <td>-0.000186</td>\n",
       "      <td>-2.872172e-07</td>\n",
       "      <td>-0.000195</td>\n",
       "      <td>-0.000205</td>\n",
       "      <td>-0.000002</td>\n",
       "      <td>-0.000249</td>\n",
       "      <td>-0.000191</td>\n",
       "      <td>1.000000e+00</td>\n",
       "      <td>-0.000003</td>\n",
       "      <td>-0.000452</td>\n",
       "      <td>-0.000255</td>\n",
       "      <td>-0.000014</td>\n",
       "      <td>-0.000140</td>\n",
       "      <td>-0.000027</td>\n",
       "      <td>-0.000050</td>\n",
       "      <td>-0.000010</td>\n",
       "    </tr>\n",
       "    <tr>\n",
       "      <th>websec_mys</th>\n",
       "      <td>0.004641</td>\n",
       "      <td>0.002938</td>\n",
       "      <td>-0.001368</td>\n",
       "      <td>-2.110630e-06</td>\n",
       "      <td>-0.001430</td>\n",
       "      <td>-0.001509</td>\n",
       "      <td>-0.000012</td>\n",
       "      <td>-0.001829</td>\n",
       "      <td>-0.001402</td>\n",
       "      <td>-2.984881e-06</td>\n",
       "      <td>1.000000</td>\n",
       "      <td>-0.003325</td>\n",
       "      <td>-0.001874</td>\n",
       "      <td>-0.000104</td>\n",
       "      <td>-0.001026</td>\n",
       "      <td>-0.000197</td>\n",
       "      <td>-0.000365</td>\n",
       "      <td>-0.000072</td>\n",
       "    </tr>\n",
       "    <tr>\n",
       "      <th>websec_product</th>\n",
       "      <td>0.001565</td>\n",
       "      <td>0.032957</td>\n",
       "      <td>-0.207315</td>\n",
       "      <td>-3.199606e-04</td>\n",
       "      <td>-0.216774</td>\n",
       "      <td>-0.228789</td>\n",
       "      <td>-0.001838</td>\n",
       "      <td>-0.277305</td>\n",
       "      <td>-0.212525</td>\n",
       "      <td>-4.524926e-04</td>\n",
       "      <td>-0.003325</td>\n",
       "      <td>1.000000</td>\n",
       "      <td>-0.284087</td>\n",
       "      <td>-0.015812</td>\n",
       "      <td>-0.155539</td>\n",
       "      <td>-0.029829</td>\n",
       "      <td>-0.055284</td>\n",
       "      <td>-0.010885</td>\n",
       "    </tr>\n",
       "    <tr>\n",
       "      <th>websec_product-listing-category</th>\n",
       "      <td>-0.000675</td>\n",
       "      <td>-0.081743</td>\n",
       "      <td>-0.116838</td>\n",
       "      <td>-1.803230e-04</td>\n",
       "      <td>-0.122169</td>\n",
       "      <td>-0.128941</td>\n",
       "      <td>-0.001036</td>\n",
       "      <td>-0.156283</td>\n",
       "      <td>-0.119775</td>\n",
       "      <td>-2.550152e-04</td>\n",
       "      <td>-0.001874</td>\n",
       "      <td>-0.284087</td>\n",
       "      <td>1.000000</td>\n",
       "      <td>-0.008911</td>\n",
       "      <td>-0.087658</td>\n",
       "      <td>-0.016811</td>\n",
       "      <td>-0.031157</td>\n",
       "      <td>-0.006134</td>\n",
       "    </tr>\n",
       "    <tr>\n",
       "      <th>websec_product-listing-custom</th>\n",
       "      <td>-0.001213</td>\n",
       "      <td>-0.003248</td>\n",
       "      <td>-0.006503</td>\n",
       "      <td>-1.003661e-05</td>\n",
       "      <td>-0.006800</td>\n",
       "      <td>-0.007177</td>\n",
       "      <td>-0.000058</td>\n",
       "      <td>-0.008699</td>\n",
       "      <td>-0.006667</td>\n",
       "      <td>-1.419391e-05</td>\n",
       "      <td>-0.000104</td>\n",
       "      <td>-0.015812</td>\n",
       "      <td>-0.008911</td>\n",
       "      <td>1.000000</td>\n",
       "      <td>-0.004879</td>\n",
       "      <td>-0.000936</td>\n",
       "      <td>-0.001734</td>\n",
       "      <td>-0.000341</td>\n",
       "    </tr>\n",
       "    <tr>\n",
       "      <th>websec_product-listing-search</th>\n",
       "      <td>-0.002238</td>\n",
       "      <td>-0.028027</td>\n",
       "      <td>-0.063969</td>\n",
       "      <td>-9.872754e-05</td>\n",
       "      <td>-0.066888</td>\n",
       "      <td>-0.070595</td>\n",
       "      <td>-0.000567</td>\n",
       "      <td>-0.085566</td>\n",
       "      <td>-0.065577</td>\n",
       "      <td>-1.396218e-04</td>\n",
       "      <td>-0.001026</td>\n",
       "      <td>-0.155539</td>\n",
       "      <td>-0.087658</td>\n",
       "      <td>-0.004879</td>\n",
       "      <td>1.000000</td>\n",
       "      <td>-0.009204</td>\n",
       "      <td>-0.017058</td>\n",
       "      <td>-0.003359</td>\n",
       "    </tr>\n",
       "    <tr>\n",
       "      <th>websec_productNotFound</th>\n",
       "      <td>0.000600</td>\n",
       "      <td>-0.002334</td>\n",
       "      <td>-0.012268</td>\n",
       "      <td>-1.893382e-05</td>\n",
       "      <td>-0.012828</td>\n",
       "      <td>-0.013539</td>\n",
       "      <td>-0.000109</td>\n",
       "      <td>-0.016410</td>\n",
       "      <td>-0.012576</td>\n",
       "      <td>-2.677646e-05</td>\n",
       "      <td>-0.000197</td>\n",
       "      <td>-0.029829</td>\n",
       "      <td>-0.016811</td>\n",
       "      <td>-0.000936</td>\n",
       "      <td>-0.009204</td>\n",
       "      <td>1.000000</td>\n",
       "      <td>-0.003271</td>\n",
       "      <td>-0.000644</td>\n",
       "    </tr>\n",
       "    <tr>\n",
       "      <th>websec_shoplive</th>\n",
       "      <td>-0.000466</td>\n",
       "      <td>-0.014162</td>\n",
       "      <td>-0.022737</td>\n",
       "      <td>-3.509103e-05</td>\n",
       "      <td>-0.023774</td>\n",
       "      <td>-0.025092</td>\n",
       "      <td>-0.000202</td>\n",
       "      <td>-0.030413</td>\n",
       "      <td>-0.023308</td>\n",
       "      <td>-4.962621e-05</td>\n",
       "      <td>-0.000365</td>\n",
       "      <td>-0.055284</td>\n",
       "      <td>-0.031157</td>\n",
       "      <td>-0.001734</td>\n",
       "      <td>-0.017058</td>\n",
       "      <td>-0.003271</td>\n",
       "      <td>1.000000</td>\n",
       "      <td>-0.001194</td>\n",
       "    </tr>\n",
       "    <tr>\n",
       "      <th>websec_signupcomplete</th>\n",
       "      <td>0.000003</td>\n",
       "      <td>-0.000428</td>\n",
       "      <td>-0.004477</td>\n",
       "      <td>-6.908967e-06</td>\n",
       "      <td>-0.004681</td>\n",
       "      <td>-0.004940</td>\n",
       "      <td>-0.000040</td>\n",
       "      <td>-0.005988</td>\n",
       "      <td>-0.004589</td>\n",
       "      <td>-9.770756e-06</td>\n",
       "      <td>-0.000072</td>\n",
       "      <td>-0.010885</td>\n",
       "      <td>-0.006134</td>\n",
       "      <td>-0.000341</td>\n",
       "      <td>-0.003359</td>\n",
       "      <td>-0.000644</td>\n",
       "      <td>-0.001194</td>\n",
       "      <td>1.000000</td>\n",
       "    </tr>\n",
       "  </tbody>\n",
       "</table>\n",
       "</div>"
      ],
      "text/plain": [
       "                                   userid  purchased  websec_cart  \\\n",
       "userid                           1.000000   0.003873    -0.000339   \n",
       "purchased                        0.003873   1.000000     0.232503   \n",
       "websec_cart                     -0.000339   0.232503     1.000000   \n",
       "websec_category                 -0.000096  -0.000319    -0.000132   \n",
       "websec_content                  -0.001942  -0.033903    -0.089154   \n",
       "websec_default                   0.002425  -0.049420    -0.094095   \n",
       "websec_error                    -0.001534  -0.000502    -0.000756   \n",
       "websec_home                      0.000095  -0.050316    -0.114049   \n",
       "websec_iroa                     -0.000454  -0.006746    -0.087406   \n",
       "websec_lorigreiner               0.000117  -0.000451    -0.000186   \n",
       "websec_mys                       0.004641   0.002938    -0.001368   \n",
       "websec_product                   0.001565   0.032957    -0.207315   \n",
       "websec_product-listing-category -0.000675  -0.081743    -0.116838   \n",
       "websec_product-listing-custom   -0.001213  -0.003248    -0.006503   \n",
       "websec_product-listing-search   -0.002238  -0.028027    -0.063969   \n",
       "websec_productNotFound           0.000600  -0.002334    -0.012268   \n",
       "websec_shoplive                 -0.000466  -0.014162    -0.022737   \n",
       "websec_signupcomplete            0.000003  -0.000428    -0.004477   \n",
       "\n",
       "                                 websec_category  websec_content  \\\n",
       "userid                             -9.563762e-05       -0.001942   \n",
       "purchased                          -3.190217e-04       -0.033903   \n",
       "websec_cart                        -1.315921e-04       -0.089154   \n",
       "websec_category                     1.000000e+00       -0.000138   \n",
       "websec_content                     -1.375964e-04        1.000000   \n",
       "websec_default                     -1.452226e-04       -0.098389   \n",
       "websec_error                       -1.166686e-06       -0.000790   \n",
       "websec_home                        -1.760179e-04       -0.119253   \n",
       "websec_iroa                        -1.348990e-04       -0.091395   \n",
       "websec_lorigreiner                 -2.872172e-07       -0.000195   \n",
       "websec_mys                         -2.110630e-06       -0.001430   \n",
       "websec_product                     -3.199606e-04       -0.216774   \n",
       "websec_product-listing-category    -1.803230e-04       -0.122169   \n",
       "websec_product-listing-custom      -1.003661e-05       -0.006800   \n",
       "websec_product-listing-search      -9.872754e-05       -0.066888   \n",
       "websec_productNotFound             -1.893382e-05       -0.012828   \n",
       "websec_shoplive                    -3.509103e-05       -0.023774   \n",
       "websec_signupcomplete              -6.908967e-06       -0.004681   \n",
       "\n",
       "                                 websec_default  websec_error  websec_home  \\\n",
       "userid                                 0.002425     -0.001534     0.000095   \n",
       "purchased                             -0.049420     -0.000502    -0.050316   \n",
       "websec_cart                           -0.094095     -0.000756    -0.114049   \n",
       "websec_category                       -0.000145     -0.000001    -0.000176   \n",
       "websec_content                        -0.098389     -0.000790    -0.119253   \n",
       "websec_default                         1.000000     -0.000834    -0.125862   \n",
       "websec_error                          -0.000834      1.000000    -0.001011   \n",
       "websec_home                           -0.125862     -0.001011     1.000000   \n",
       "websec_iroa                           -0.096460     -0.000775    -0.116915   \n",
       "websec_lorigreiner                    -0.000205     -0.000002    -0.000249   \n",
       "websec_mys                            -0.001509     -0.000012    -0.001829   \n",
       "websec_product                        -0.228789     -0.001838    -0.277305   \n",
       "websec_product-listing-category       -0.128941     -0.001036    -0.156283   \n",
       "websec_product-listing-custom         -0.007177     -0.000058    -0.008699   \n",
       "websec_product-listing-search         -0.070595     -0.000567    -0.085566   \n",
       "websec_productNotFound                -0.013539     -0.000109    -0.016410   \n",
       "websec_shoplive                       -0.025092     -0.000202    -0.030413   \n",
       "websec_signupcomplete                 -0.004940     -0.000040    -0.005988   \n",
       "\n",
       "                                 websec_iroa  websec_lorigreiner  websec_mys  \\\n",
       "userid                             -0.000454        1.166802e-04    0.004641   \n",
       "purchased                          -0.006746       -4.511649e-04    0.002938   \n",
       "websec_cart                        -0.087406       -1.860994e-04   -0.001368   \n",
       "websec_category                    -0.000135       -2.872172e-07   -0.000002   \n",
       "websec_content                     -0.091395       -1.945907e-04   -0.001430   \n",
       "websec_default                     -0.096460       -2.053757e-04   -0.001509   \n",
       "websec_error                       -0.000775       -1.649943e-06   -0.000012   \n",
       "websec_home                        -0.116915       -2.489270e-04   -0.001829   \n",
       "websec_iroa                         1.000000       -1.907760e-04   -0.001402   \n",
       "websec_lorigreiner                 -0.000191        1.000000e+00   -0.000003   \n",
       "websec_mys                         -0.001402       -2.984881e-06    1.000000   \n",
       "websec_product                     -0.212525       -4.524926e-04   -0.003325   \n",
       "websec_product-listing-category    -0.119775       -2.550152e-04   -0.001874   \n",
       "websec_product-listing-custom      -0.006667       -1.419391e-05   -0.000104   \n",
       "websec_product-listing-search      -0.065577       -1.396218e-04   -0.001026   \n",
       "websec_productNotFound             -0.012576       -2.677646e-05   -0.000197   \n",
       "websec_shoplive                    -0.023308       -4.962621e-05   -0.000365   \n",
       "websec_signupcomplete              -0.004589       -9.770756e-06   -0.000072   \n",
       "\n",
       "                                 websec_product  \\\n",
       "userid                                 0.001565   \n",
       "purchased                              0.032957   \n",
       "websec_cart                           -0.207315   \n",
       "websec_category                       -0.000320   \n",
       "websec_content                        -0.216774   \n",
       "websec_default                        -0.228789   \n",
       "websec_error                          -0.001838   \n",
       "websec_home                           -0.277305   \n",
       "websec_iroa                           -0.212525   \n",
       "websec_lorigreiner                    -0.000452   \n",
       "websec_mys                            -0.003325   \n",
       "websec_product                         1.000000   \n",
       "websec_product-listing-category       -0.284087   \n",
       "websec_product-listing-custom         -0.015812   \n",
       "websec_product-listing-search         -0.155539   \n",
       "websec_productNotFound                -0.029829   \n",
       "websec_shoplive                       -0.055284   \n",
       "websec_signupcomplete                 -0.010885   \n",
       "\n",
       "                                 websec_product-listing-category  \\\n",
       "userid                                                 -0.000675   \n",
       "purchased                                              -0.081743   \n",
       "websec_cart                                            -0.116838   \n",
       "websec_category                                        -0.000180   \n",
       "websec_content                                         -0.122169   \n",
       "websec_default                                         -0.128941   \n",
       "websec_error                                           -0.001036   \n",
       "websec_home                                            -0.156283   \n",
       "websec_iroa                                            -0.119775   \n",
       "websec_lorigreiner                                     -0.000255   \n",
       "websec_mys                                             -0.001874   \n",
       "websec_product                                         -0.284087   \n",
       "websec_product-listing-category                         1.000000   \n",
       "websec_product-listing-custom                          -0.008911   \n",
       "websec_product-listing-search                          -0.087658   \n",
       "websec_productNotFound                                 -0.016811   \n",
       "websec_shoplive                                        -0.031157   \n",
       "websec_signupcomplete                                  -0.006134   \n",
       "\n",
       "                                 websec_product-listing-custom  \\\n",
       "userid                                               -0.001213   \n",
       "purchased                                            -0.003248   \n",
       "websec_cart                                          -0.006503   \n",
       "websec_category                                      -0.000010   \n",
       "websec_content                                       -0.006800   \n",
       "websec_default                                       -0.007177   \n",
       "websec_error                                         -0.000058   \n",
       "websec_home                                          -0.008699   \n",
       "websec_iroa                                          -0.006667   \n",
       "websec_lorigreiner                                   -0.000014   \n",
       "websec_mys                                           -0.000104   \n",
       "websec_product                                       -0.015812   \n",
       "websec_product-listing-category                      -0.008911   \n",
       "websec_product-listing-custom                         1.000000   \n",
       "websec_product-listing-search                        -0.004879   \n",
       "websec_productNotFound                               -0.000936   \n",
       "websec_shoplive                                      -0.001734   \n",
       "websec_signupcomplete                                -0.000341   \n",
       "\n",
       "                                 websec_product-listing-search  \\\n",
       "userid                                               -0.002238   \n",
       "purchased                                            -0.028027   \n",
       "websec_cart                                          -0.063969   \n",
       "websec_category                                      -0.000099   \n",
       "websec_content                                       -0.066888   \n",
       "websec_default                                       -0.070595   \n",
       "websec_error                                         -0.000567   \n",
       "websec_home                                          -0.085566   \n",
       "websec_iroa                                          -0.065577   \n",
       "websec_lorigreiner                                   -0.000140   \n",
       "websec_mys                                           -0.001026   \n",
       "websec_product                                       -0.155539   \n",
       "websec_product-listing-category                      -0.087658   \n",
       "websec_product-listing-custom                        -0.004879   \n",
       "websec_product-listing-search                         1.000000   \n",
       "websec_productNotFound                               -0.009204   \n",
       "websec_shoplive                                      -0.017058   \n",
       "websec_signupcomplete                                -0.003359   \n",
       "\n",
       "                                 websec_productNotFound  websec_shoplive  \\\n",
       "userid                                         0.000600        -0.000466   \n",
       "purchased                                     -0.002334        -0.014162   \n",
       "websec_cart                                   -0.012268        -0.022737   \n",
       "websec_category                               -0.000019        -0.000035   \n",
       "websec_content                                -0.012828        -0.023774   \n",
       "websec_default                                -0.013539        -0.025092   \n",
       "websec_error                                  -0.000109        -0.000202   \n",
       "websec_home                                   -0.016410        -0.030413   \n",
       "websec_iroa                                   -0.012576        -0.023308   \n",
       "websec_lorigreiner                            -0.000027        -0.000050   \n",
       "websec_mys                                    -0.000197        -0.000365   \n",
       "websec_product                                -0.029829        -0.055284   \n",
       "websec_product-listing-category               -0.016811        -0.031157   \n",
       "websec_product-listing-custom                 -0.000936        -0.001734   \n",
       "websec_product-listing-search                 -0.009204        -0.017058   \n",
       "websec_productNotFound                         1.000000        -0.003271   \n",
       "websec_shoplive                               -0.003271         1.000000   \n",
       "websec_signupcomplete                         -0.000644        -0.001194   \n",
       "\n",
       "                                 websec_signupcomplete  \n",
       "userid                                        0.000003  \n",
       "purchased                                    -0.000428  \n",
       "websec_cart                                  -0.004477  \n",
       "websec_category                              -0.000007  \n",
       "websec_content                               -0.004681  \n",
       "websec_default                               -0.004940  \n",
       "websec_error                                 -0.000040  \n",
       "websec_home                                  -0.005988  \n",
       "websec_iroa                                  -0.004589  \n",
       "websec_lorigreiner                           -0.000010  \n",
       "websec_mys                                   -0.000072  \n",
       "websec_product                               -0.010885  \n",
       "websec_product-listing-category              -0.006134  \n",
       "websec_product-listing-custom                -0.000341  \n",
       "websec_product-listing-search                -0.003359  \n",
       "websec_productNotFound                       -0.000644  \n",
       "websec_shoplive                              -0.001194  \n",
       "websec_signupcomplete                         1.000000  "
      ]
     },
     "execution_count": 22,
     "metadata": {},
     "output_type": "execute_result"
    }
   ],
   "source": [
    "merged.corr()"
   ]
  },
  {
   "cell_type": "code",
   "execution_count": null,
   "metadata": {},
   "outputs": [],
   "source": []
  },
  {
   "cell_type": "code",
   "execution_count": 24,
   "metadata": {},
   "outputs": [],
   "source": [
    "# Model Building \n",
    "from sklearn.linear_model import LogisticRegression\n",
    "from sklearn.model_selection import train_test_split\n"
   ]
  },
  {
   "cell_type": "code",
   "execution_count": 28,
   "metadata": {},
   "outputs": [],
   "source": [
    "model=LogisticRegression()"
   ]
  },
  {
   "cell_type": "code",
   "execution_count": 31,
   "metadata": {},
   "outputs": [],
   "source": [
    "X=merged.drop(columns=['purchased'],axis=1)\n",
    "y=merged['purchased']"
   ]
  },
  {
   "cell_type": "code",
   "execution_count": 32,
   "metadata": {
    "scrolled": true
   },
   "outputs": [],
   "source": [
    "X_train, X_test, y_train, y_test = train_test_split(X, y, test_size=0.30, random_state=0)"
   ]
  },
  {
   "cell_type": "code",
   "execution_count": 33,
   "metadata": {},
   "outputs": [
    {
     "name": "stderr",
     "output_type": "stream",
     "text": [
      "C:\\Users\\Prakash\\Anaconda3\\lib\\site-packages\\sklearn\\linear_model\\logistic.py:433: FutureWarning: Default solver will be changed to 'lbfgs' in 0.22. Specify a solver to silence this warning.\n",
      "  FutureWarning)\n"
     ]
    },
    {
     "data": {
      "text/plain": [
       "LogisticRegression(C=1.0, class_weight=None, dual=False, fit_intercept=True,\n",
       "          intercept_scaling=1, max_iter=100, multi_class='warn',\n",
       "          n_jobs=None, penalty='l2', random_state=None, solver='warn',\n",
       "          tol=0.0001, verbose=0, warm_start=False)"
      ]
     },
     "execution_count": 33,
     "metadata": {},
     "output_type": "execute_result"
    }
   ],
   "source": [
    "model.fit(X_train,y_train)"
   ]
  },
  {
   "cell_type": "code",
   "execution_count": 34,
   "metadata": {},
   "outputs": [],
   "source": [
    "y_pred=model.predict(X_test)"
   ]
  },
  {
   "cell_type": "code",
   "execution_count": 45,
   "metadata": {},
   "outputs": [
    {
     "data": {
      "text/plain": [
       "array([[950606,  33548],\n",
       "       [410627,  82374]], dtype=int64)"
      ]
     },
     "execution_count": 45,
     "metadata": {},
     "output_type": "execute_result"
    }
   ],
   "source": [
    "from sklearn.metrics import  confusion_matrix, classification_report,accuracy_score\n",
    "cnf_matrix = confusion_matrix(y_test, y_pred)\n",
    "cnf_matrix"
   ]
  },
  {
   "cell_type": "code",
   "execution_count": null,
   "metadata": {},
   "outputs": [],
   "source": [
    "print(\"Accuracy:\\n\",accuracy_score(y_test, y_pred))\n",
    "#print(\"Precision:\",precision_score(y_test, y_pred))\n",
    "#print(\"Recall:\",recall_score(y_test, y_pred))\n",
    "print(\"Classification Report:\\n\",classification_report(y_test, y_pred))"
   ]
  },
  {
   "cell_type": "code",
   "execution_count": null,
   "metadata": {},
   "outputs": [],
   "source": [
    "## SVM (Linear)\n",
    "from sklearn.svm import SVC\n",
    "classifier = SVC(random_state = 0, kernel = 'linear')\n",
    "classifier.fit(X_train, y_train)"
   ]
  },
  {
   "cell_type": "code",
   "execution_count": 147,
   "metadata": {},
   "outputs": [],
   "source": [
    "## SVM (rbf)\n",
    "from sklearn.ensemble import RandomForestClassifier\n",
    "classifier = RandomForestClassifier(random_state = 0, n_estimators = 100,\n",
    "                                    criterion = 'entropy')\n",
    "classifier.fit(X_train, y_train)\n",
    "\n",
    "# Predicting Test Set\n",
    "y_pred = classifier.predict(X_test)\n",
    "acc = accuracy_score(y_test, y_pred)\n",
    "prec = precision_score(y_test, y_pred)\n",
    "rec = recall_score(y_test, y_pred)\n",
    "f1 = f1_score(y_test, y_pred)\n",
    "\n",
    "model_results = pd.DataFrame([['Random Forest (n=100)', acc, prec, rec, f1]],\n",
    "               columns = ['Model', 'Accuracy', 'Precision', 'Recall', 'F1 Score'])\n",
    "\n",
    "results = results.append(model_results, ignore_index = True)\n",
    "\n",
    "\n",
    "## K-fold Cross Validation\n",
    "from sklearn.model_selection import cross_val_score\n",
    "accuracies = cross_val_score(estimator = classifier, X= X_train, y = y_train,\n",
    "                             cv = 10)\n",
    "print(\"Random Forest Classifier Accuracy: %0.2f (+/- %0.2f)\"  % (accuracies.mean(), accuracies.std() * 2))\n",
    "\n"
   ]
  },
  {
   "cell_type": "code",
   "execution_count": 138,
   "metadata": {},
   "outputs": [],
   "source": []
  },
  {
   "cell_type": "code",
   "execution_count": null,
   "metadata": {},
   "outputs": [],
   "source": []
  }
 ],
 "metadata": {
  "kernelspec": {
   "display_name": "Python 3",
   "language": "python",
   "name": "python3"
  },
  "language_info": {
   "codemirror_mode": {
    "name": "ipython",
    "version": 3
   },
   "file_extension": ".py",
   "mimetype": "text/x-python",
   "name": "python",
   "nbconvert_exporter": "python",
   "pygments_lexer": "ipython3",
   "version": "3.7.1"
  }
 },
 "nbformat": 4,
 "nbformat_minor": 2
}
